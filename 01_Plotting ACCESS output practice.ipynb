{
 "cells": [
  {
   "cell_type": "markdown",
   "metadata": {},
   "source": [
    "# Plotting ACCESS output practice"
   ]
  },
  {
   "cell_type": "markdown",
   "metadata": {},
   "source": [
    "Example of how to plot the temperature from model output of ACCESS model.\n",
    "\n",
    "(Method can be easily adopted to other resolutions.)"
   ]
  },
  {
   "cell_type": "markdown",
   "metadata": {},
   "source": [
    "## From file of barotropic streamfunction"
   ]
  },
  {
   "cell_type": "code",
   "execution_count": 1,
   "metadata": {},
   "outputs": [],
   "source": [
    "import cartopy.crs as ccrs\n",
    "import cosima_cookbook as cc\n",
    "import cartopy.feature as cfeature\n",
    "from cartopy.mpl.gridliner import LONGITUDE_FORMATTER, LATITUDE_FORMATTER\n",
    "import cmocean as cm\n",
    "from dask.distributed import Client\n",
    "import matplotlib.path as mpath\n",
    "import matplotlib.pyplot as plt\n",
    "import numpy as np\n",
    "import xarray as xr\n",
    "\n",
    "# Avoid the Runtime errors in true_divide encountered when trying to divide by zero\n",
    "import warnings\n",
    "warnings.filterwarnings('ignore', category = RuntimeWarning) "
   ]
  },
  {
   "cell_type": "markdown",
   "metadata": {},
   "source": [
    "## From file of Cross-slope section"
   ]
  },
  {
   "cell_type": "code",
   "execution_count": 2,
   "metadata": {},
   "outputs": [],
   "source": [
    "# Standard modules\n",
    "import cosima_cookbook as cc\n",
    "from dask.distributed import Client\n",
    "import numpy as np\n",
    "import xarray as xr\n",
    "\n",
    "# For gradient calculation \n",
    "# (We will need the topographic gradient to calculate the along-slope velocity component)\n",
    "import xgcm\n",
    "\n",
    "# Load metpy module to obtain cross section \n",
    "# (Select the conda/analusis3-unstable kernel if you have problems loading this module)\n",
    "from metpy.interpolate import cross_section\n",
    "\n",
    "# For plotting\n",
    "import cartopy.crs as ccrs\n",
    "import matplotlib.pyplot as plt\n",
    "import matplotlib.path as mpath\n",
    "import cmocean as cm"
   ]
  },
  {
   "cell_type": "code",
   "execution_count": 3,
   "metadata": {},
   "outputs": [],
   "source": [
    "client = Client(n_workers=4)"
   ]
  },
  {
   "cell_type": "markdown",
   "metadata": {},
   "source": [
    "Start a session in the default COSIMA database. To search this database, the following commands can be used:\n",
    "\n",
    "e.g.: search for all the `1deg` experiments\n",
    "\n",
    "```python\n",
    "exp = cc.querying.get_experiments(session)\n",
    "exp[exp['experiment'].str.lower().str.match('1deg')]\n",
    "```"
   ]
  },
  {
   "cell_type": "code",
   "execution_count": 4,
   "metadata": {},
   "outputs": [],
   "source": [
    "# Load database\n",
    "session = cc.database.create_session()"
   ]
  },
  {
   "cell_type": "code",
   "execution_count": 5,
   "metadata": {},
   "outputs": [],
   "source": [
    "# Define experiment in database\n",
    "expt = '01deg_jra55v13_ryf9091'"
   ]
  },
  {
   "cell_type": "markdown",
   "metadata": {},
   "source": [
    "Additional information: The model grid is an Arakawa B-grid, which means that the tracers (such as temperature and salinity) are located at the middle of the cell. The velocities are located at the top right corner of a cell. The latitude and longitude information varies therefore for the tracers and the velocities. So when you load in temperature for example, you refer to the latitude by 'yt_ocean', whereas for the velocity by 'yu_ocean'.\n",
    "Similar, when you load in the bathymetry information, there are two versions, one for each point on the grid. 'ht' is the bathymetry on the tracer grid (t-grid) and 'hu' is the bathymetry on the momentum grid (u-grid)."
   ]
  },
  {
   "cell_type": "code",
   "execution_count": 6,
   "metadata": {},
   "outputs": [],
   "source": [
    "# Time information\n",
    "start_time = '2080-01-01'\n",
    "end_time = '2080-12-31'"
   ]
  },
  {
   "cell_type": "markdown",
   "metadata": {},
   "source": [
    "### Select and calculate temp vars"
   ]
  },
  {
   "cell_type": "code",
   "execution_count": 7,
   "metadata": {},
   "outputs": [
    {
     "ename": "ValueError",
     "evalue": "Couldn't parse datetime string: '2020-06-11'",
     "output_type": "error",
     "traceback": [
      "\u001b[0;31m---------------------------------------------------------------------------\u001b[0m",
      "\u001b[0;31mValueError\u001b[0m                                Traceback (most recent call last)",
      "\u001b[0;32m<ipython-input-7-0a73dac9e14f>\u001b[0m in \u001b[0;36m<module>\u001b[0;34m\u001b[0m\n\u001b[1;32m      4\u001b[0m \u001b[0;34m\u001b[0m\u001b[0m\n\u001b[1;32m      5\u001b[0m \u001b[0;31m# Import temperature, convert to degree Celsius\u001b[0m\u001b[0;34m\u001b[0m\u001b[0;34m\u001b[0m\u001b[0;34m\u001b[0m\u001b[0m\n\u001b[0;32m----> 6\u001b[0;31m \u001b[0mtemp\u001b[0m \u001b[0;34m=\u001b[0m \u001b[0mcc\u001b[0m\u001b[0;34m.\u001b[0m\u001b[0mquerying\u001b[0m\u001b[0;34m.\u001b[0m\u001b[0mgetvar\u001b[0m\u001b[0;34m(\u001b[0m\u001b[0mexpt\u001b[0m\u001b[0;34m=\u001b[0m\u001b[0mexpt\u001b[0m\u001b[0;34m,\u001b[0m \u001b[0mvariable\u001b[0m\u001b[0;34m=\u001b[0m\u001b[0;34m'temp'\u001b[0m\u001b[0;34m,\u001b[0m \u001b[0msession\u001b[0m\u001b[0;34m=\u001b[0m\u001b[0msession\u001b[0m\u001b[0;34m,\u001b[0m \u001b[0mstart_time\u001b[0m\u001b[0;34m=\u001b[0m\u001b[0mstart_time\u001b[0m\u001b[0;34m,\u001b[0m \u001b[0mend_time\u001b[0m\u001b[0;34m=\u001b[0m\u001b[0mend_time\u001b[0m\u001b[0;34m,\u001b[0m \u001b[0mfrequency\u001b[0m\u001b[0;34m=\u001b[0m\u001b[0;34m'1 monthly'\u001b[0m\u001b[0;34m)\u001b[0m \u001b[0;34m-\u001b[0m \u001b[0;36m273.15\u001b[0m\u001b[0;34m\u001b[0m\u001b[0;34m\u001b[0m\u001b[0m\n\u001b[0m\u001b[1;32m      7\u001b[0m \u001b[0;34m\u001b[0m\u001b[0m\n\u001b[1;32m      8\u001b[0m \u001b[0;31m# Select latitude range:\u001b[0m\u001b[0;34m\u001b[0m\u001b[0;34m\u001b[0m\u001b[0;34m\u001b[0m\u001b[0m\n",
      "\u001b[0;32m/g/data3/hh5/public/apps/miniconda3/envs/analysis3-21.01/lib/python3.8/site-packages/cosima_cookbook/querying.py\u001b[0m in \u001b[0;36mgetvar\u001b[0;34m(expt, variable, session, ncfile, start_time, end_time, n, frequency, **kwargs)\u001b[0m\n\u001b[1;32m    178\u001b[0m     \u001b[0mxr_kwargs\u001b[0m\u001b[0;34m.\u001b[0m\u001b[0mupdate\u001b[0m\u001b[0;34m(\u001b[0m\u001b[0mkwargs\u001b[0m\u001b[0;34m)\u001b[0m\u001b[0;34m\u001b[0m\u001b[0;34m\u001b[0m\u001b[0m\n\u001b[1;32m    179\u001b[0m \u001b[0;34m\u001b[0m\u001b[0m\n\u001b[0;32m--> 180\u001b[0;31m     ds = xr.open_mfdataset(\n\u001b[0m\u001b[1;32m    181\u001b[0m         \u001b[0;34m(\u001b[0m\u001b[0mstr\u001b[0m\u001b[0;34m(\u001b[0m\u001b[0mf\u001b[0m\u001b[0;34m.\u001b[0m\u001b[0mNCFile\u001b[0m\u001b[0;34m.\u001b[0m\u001b[0mncfile_path\u001b[0m\u001b[0;34m)\u001b[0m \u001b[0;32mfor\u001b[0m \u001b[0mf\u001b[0m \u001b[0;32min\u001b[0m \u001b[0mncfiles\u001b[0m\u001b[0;34m)\u001b[0m\u001b[0;34m,\u001b[0m\u001b[0;34m\u001b[0m\u001b[0;34m\u001b[0m\u001b[0m\n\u001b[1;32m    182\u001b[0m         \u001b[0mparallel\u001b[0m\u001b[0;34m=\u001b[0m\u001b[0;32mTrue\u001b[0m\u001b[0;34m,\u001b[0m\u001b[0;34m\u001b[0m\u001b[0;34m\u001b[0m\u001b[0m\n",
      "\u001b[0;32m/g/data3/hh5/public/apps/miniconda3/envs/analysis3-21.01/lib/python3.8/site-packages/xarray/backends/api.py\u001b[0m in \u001b[0;36mopen_mfdataset\u001b[0;34m(paths, chunks, concat_dim, compat, preprocess, engine, lock, data_vars, coords, combine, parallel, join, attrs_file, **kwargs)\u001b[0m\n\u001b[1;32m    910\u001b[0m             \u001b[0mpaths\u001b[0m \u001b[0;34m=\u001b[0m \u001b[0msorted\u001b[0m\u001b[0;34m(\u001b[0m\u001b[0mglob\u001b[0m\u001b[0;34m(\u001b[0m\u001b[0m_normalize_path\u001b[0m\u001b[0;34m(\u001b[0m\u001b[0mpaths\u001b[0m\u001b[0;34m)\u001b[0m\u001b[0;34m)\u001b[0m\u001b[0;34m)\u001b[0m\u001b[0;34m\u001b[0m\u001b[0;34m\u001b[0m\u001b[0m\n\u001b[1;32m    911\u001b[0m     \u001b[0;32melse\u001b[0m\u001b[0;34m:\u001b[0m\u001b[0;34m\u001b[0m\u001b[0;34m\u001b[0m\u001b[0m\n\u001b[0;32m--> 912\u001b[0;31m         \u001b[0mpaths\u001b[0m \u001b[0;34m=\u001b[0m \u001b[0;34m[\u001b[0m\u001b[0mstr\u001b[0m\u001b[0;34m(\u001b[0m\u001b[0mp\u001b[0m\u001b[0;34m)\u001b[0m \u001b[0;32mif\u001b[0m \u001b[0misinstance\u001b[0m\u001b[0;34m(\u001b[0m\u001b[0mp\u001b[0m\u001b[0;34m,\u001b[0m \u001b[0mPath\u001b[0m\u001b[0;34m)\u001b[0m \u001b[0;32melse\u001b[0m \u001b[0mp\u001b[0m \u001b[0;32mfor\u001b[0m \u001b[0mp\u001b[0m \u001b[0;32min\u001b[0m \u001b[0mpaths\u001b[0m\u001b[0;34m]\u001b[0m\u001b[0;34m\u001b[0m\u001b[0;34m\u001b[0m\u001b[0m\n\u001b[0m\u001b[1;32m    913\u001b[0m \u001b[0;34m\u001b[0m\u001b[0m\n\u001b[1;32m    914\u001b[0m     \u001b[0;32mif\u001b[0m \u001b[0;32mnot\u001b[0m \u001b[0mpaths\u001b[0m\u001b[0;34m:\u001b[0m\u001b[0;34m\u001b[0m\u001b[0;34m\u001b[0m\u001b[0m\n",
      "\u001b[0;32m/g/data3/hh5/public/apps/miniconda3/envs/analysis3-21.01/lib/python3.8/site-packages/xarray/backends/api.py\u001b[0m in \u001b[0;36m<listcomp>\u001b[0;34m(.0)\u001b[0m\n\u001b[1;32m    910\u001b[0m             \u001b[0mpaths\u001b[0m \u001b[0;34m=\u001b[0m \u001b[0msorted\u001b[0m\u001b[0;34m(\u001b[0m\u001b[0mglob\u001b[0m\u001b[0;34m(\u001b[0m\u001b[0m_normalize_path\u001b[0m\u001b[0;34m(\u001b[0m\u001b[0mpaths\u001b[0m\u001b[0;34m)\u001b[0m\u001b[0;34m)\u001b[0m\u001b[0;34m)\u001b[0m\u001b[0;34m\u001b[0m\u001b[0;34m\u001b[0m\u001b[0m\n\u001b[1;32m    911\u001b[0m     \u001b[0;32melse\u001b[0m\u001b[0;34m:\u001b[0m\u001b[0;34m\u001b[0m\u001b[0;34m\u001b[0m\u001b[0m\n\u001b[0;32m--> 912\u001b[0;31m         \u001b[0mpaths\u001b[0m \u001b[0;34m=\u001b[0m \u001b[0;34m[\u001b[0m\u001b[0mstr\u001b[0m\u001b[0;34m(\u001b[0m\u001b[0mp\u001b[0m\u001b[0;34m)\u001b[0m \u001b[0;32mif\u001b[0m \u001b[0misinstance\u001b[0m\u001b[0;34m(\u001b[0m\u001b[0mp\u001b[0m\u001b[0;34m,\u001b[0m \u001b[0mPath\u001b[0m\u001b[0;34m)\u001b[0m \u001b[0;32melse\u001b[0m \u001b[0mp\u001b[0m \u001b[0;32mfor\u001b[0m \u001b[0mp\u001b[0m \u001b[0;32min\u001b[0m \u001b[0mpaths\u001b[0m\u001b[0;34m]\u001b[0m\u001b[0;34m\u001b[0m\u001b[0;34m\u001b[0m\u001b[0m\n\u001b[0m\u001b[1;32m    913\u001b[0m \u001b[0;34m\u001b[0m\u001b[0m\n\u001b[1;32m    914\u001b[0m     \u001b[0;32mif\u001b[0m \u001b[0;32mnot\u001b[0m \u001b[0mpaths\u001b[0m\u001b[0;34m:\u001b[0m\u001b[0;34m\u001b[0m\u001b[0;34m\u001b[0m\u001b[0m\n",
      "\u001b[0;32m/g/data3/hh5/public/apps/miniconda3/envs/analysis3-21.01/lib/python3.8/site-packages/cosima_cookbook/querying.py\u001b[0m in \u001b[0;36m<genexpr>\u001b[0;34m(.0)\u001b[0m\n\u001b[1;32m    179\u001b[0m \u001b[0;34m\u001b[0m\u001b[0m\n\u001b[1;32m    180\u001b[0m     ds = xr.open_mfdataset(\n\u001b[0;32m--> 181\u001b[0;31m         \u001b[0;34m(\u001b[0m\u001b[0mstr\u001b[0m\u001b[0;34m(\u001b[0m\u001b[0mf\u001b[0m\u001b[0;34m.\u001b[0m\u001b[0mNCFile\u001b[0m\u001b[0;34m.\u001b[0m\u001b[0mncfile_path\u001b[0m\u001b[0;34m)\u001b[0m \u001b[0;32mfor\u001b[0m \u001b[0mf\u001b[0m \u001b[0;32min\u001b[0m \u001b[0mncfiles\u001b[0m\u001b[0;34m)\u001b[0m\u001b[0;34m,\u001b[0m\u001b[0;34m\u001b[0m\u001b[0;34m\u001b[0m\u001b[0m\n\u001b[0m\u001b[1;32m    182\u001b[0m         \u001b[0mparallel\u001b[0m\u001b[0;34m=\u001b[0m\u001b[0;32mTrue\u001b[0m\u001b[0;34m,\u001b[0m\u001b[0;34m\u001b[0m\u001b[0;34m\u001b[0m\u001b[0m\n\u001b[1;32m    183\u001b[0m         \u001b[0mcombine\u001b[0m\u001b[0;34m=\u001b[0m\u001b[0;34m\"by_coords\"\u001b[0m\u001b[0;34m,\u001b[0m\u001b[0;34m\u001b[0m\u001b[0;34m\u001b[0m\u001b[0m\n",
      "\u001b[0;32m/g/data3/hh5/public/apps/miniconda3/envs/analysis3-21.01/lib/python3.8/site-packages/cosima_cookbook/database.py\u001b[0m in \u001b[0;36mncfile_path\u001b[0;34m(self)\u001b[0m\n\u001b[1;32m    138\u001b[0m     \u001b[0;34m@\u001b[0m\u001b[0mproperty\u001b[0m\u001b[0;34m\u001b[0m\u001b[0;34m\u001b[0m\u001b[0m\n\u001b[1;32m    139\u001b[0m     \u001b[0;32mdef\u001b[0m \u001b[0mncfile_path\u001b[0m\u001b[0;34m(\u001b[0m\u001b[0mself\u001b[0m\u001b[0;34m)\u001b[0m\u001b[0;34m:\u001b[0m\u001b[0;34m\u001b[0m\u001b[0;34m\u001b[0m\u001b[0m\n\u001b[0;32m--> 140\u001b[0;31m         \u001b[0;32mreturn\u001b[0m \u001b[0mPath\u001b[0m\u001b[0;34m(\u001b[0m\u001b[0mself\u001b[0m\u001b[0;34m.\u001b[0m\u001b[0mexperiment\u001b[0m\u001b[0;34m.\u001b[0m\u001b[0mroot_dir\u001b[0m\u001b[0;34m)\u001b[0m \u001b[0;34m/\u001b[0m \u001b[0mPath\u001b[0m\u001b[0;34m(\u001b[0m\u001b[0mself\u001b[0m\u001b[0;34m.\u001b[0m\u001b[0mncfile\u001b[0m\u001b[0;34m)\u001b[0m\u001b[0;34m\u001b[0m\u001b[0;34m\u001b[0m\u001b[0m\n\u001b[0m\u001b[1;32m    141\u001b[0m \u001b[0;34m\u001b[0m\u001b[0m\n\u001b[1;32m    142\u001b[0m \u001b[0;32mclass\u001b[0m \u001b[0mCFVariable\u001b[0m\u001b[0;34m(\u001b[0m\u001b[0mUniqueMixin\u001b[0m\u001b[0;34m,\u001b[0m \u001b[0mBase\u001b[0m\u001b[0;34m)\u001b[0m\u001b[0;34m:\u001b[0m\u001b[0;34m\u001b[0m\u001b[0;34m\u001b[0m\u001b[0m\n",
      "\u001b[0;32m/g/data3/hh5/public/apps/miniconda3/envs/analysis3-21.01/lib/python3.8/site-packages/sqlalchemy/orm/attributes.py\u001b[0m in \u001b[0;36m__get__\u001b[0;34m(self, instance, owner)\u001b[0m\n\u001b[1;32m    292\u001b[0m             \u001b[0;32mreturn\u001b[0m \u001b[0mdict_\u001b[0m\u001b[0;34m[\u001b[0m\u001b[0mself\u001b[0m\u001b[0;34m.\u001b[0m\u001b[0mkey\u001b[0m\u001b[0;34m]\u001b[0m\u001b[0;34m\u001b[0m\u001b[0;34m\u001b[0m\u001b[0m\n\u001b[1;32m    293\u001b[0m         \u001b[0;32melse\u001b[0m\u001b[0;34m:\u001b[0m\u001b[0;34m\u001b[0m\u001b[0;34m\u001b[0m\u001b[0m\n\u001b[0;32m--> 294\u001b[0;31m             \u001b[0;32mreturn\u001b[0m \u001b[0mself\u001b[0m\u001b[0;34m.\u001b[0m\u001b[0mimpl\u001b[0m\u001b[0;34m.\u001b[0m\u001b[0mget\u001b[0m\u001b[0;34m(\u001b[0m\u001b[0minstance_state\u001b[0m\u001b[0;34m(\u001b[0m\u001b[0minstance\u001b[0m\u001b[0;34m)\u001b[0m\u001b[0;34m,\u001b[0m \u001b[0mdict_\u001b[0m\u001b[0;34m)\u001b[0m\u001b[0;34m\u001b[0m\u001b[0;34m\u001b[0m\u001b[0m\n\u001b[0m\u001b[1;32m    295\u001b[0m \u001b[0;34m\u001b[0m\u001b[0m\n\u001b[1;32m    296\u001b[0m \u001b[0;34m\u001b[0m\u001b[0m\n",
      "\u001b[0;32m/g/data3/hh5/public/apps/miniconda3/envs/analysis3-21.01/lib/python3.8/site-packages/sqlalchemy/orm/attributes.py\u001b[0m in \u001b[0;36mget\u001b[0;34m(self, state, dict_, passive)\u001b[0m\n\u001b[1;32m    728\u001b[0m                     \u001b[0mvalue\u001b[0m \u001b[0;34m=\u001b[0m \u001b[0mcallable_\u001b[0m\u001b[0;34m(\u001b[0m\u001b[0mstate\u001b[0m\u001b[0;34m,\u001b[0m \u001b[0mpassive\u001b[0m\u001b[0;34m)\u001b[0m\u001b[0;34m\u001b[0m\u001b[0;34m\u001b[0m\u001b[0m\n\u001b[1;32m    729\u001b[0m                 \u001b[0;32melif\u001b[0m \u001b[0mself\u001b[0m\u001b[0;34m.\u001b[0m\u001b[0mcallable_\u001b[0m\u001b[0;34m:\u001b[0m\u001b[0;34m\u001b[0m\u001b[0;34m\u001b[0m\u001b[0m\n\u001b[0;32m--> 730\u001b[0;31m                     \u001b[0mvalue\u001b[0m \u001b[0;34m=\u001b[0m \u001b[0mself\u001b[0m\u001b[0;34m.\u001b[0m\u001b[0mcallable_\u001b[0m\u001b[0;34m(\u001b[0m\u001b[0mstate\u001b[0m\u001b[0;34m,\u001b[0m \u001b[0mpassive\u001b[0m\u001b[0;34m)\u001b[0m\u001b[0;34m\u001b[0m\u001b[0;34m\u001b[0m\u001b[0m\n\u001b[0m\u001b[1;32m    731\u001b[0m                 \u001b[0;32melse\u001b[0m\u001b[0;34m:\u001b[0m\u001b[0;34m\u001b[0m\u001b[0;34m\u001b[0m\u001b[0m\n\u001b[1;32m    732\u001b[0m                     \u001b[0mvalue\u001b[0m \u001b[0;34m=\u001b[0m \u001b[0mATTR_EMPTY\u001b[0m\u001b[0;34m\u001b[0m\u001b[0;34m\u001b[0m\u001b[0m\n",
      "\u001b[0;32m/g/data3/hh5/public/apps/miniconda3/envs/analysis3-21.01/lib/python3.8/site-packages/sqlalchemy/orm/strategies.py\u001b[0m in \u001b[0;36m_load_for_state\u001b[0;34m(self, state, passive)\u001b[0m\n\u001b[1;32m    757\u001b[0m                 \u001b[0;32mreturn\u001b[0m \u001b[0mattributes\u001b[0m\u001b[0;34m.\u001b[0m\u001b[0mPASSIVE_NO_RESULT\u001b[0m\u001b[0;34m\u001b[0m\u001b[0;34m\u001b[0m\u001b[0m\n\u001b[1;32m    758\u001b[0m \u001b[0;34m\u001b[0m\u001b[0m\n\u001b[0;32m--> 759\u001b[0;31m         return self._emit_lazyload(\n\u001b[0m\u001b[1;32m    760\u001b[0m             \u001b[0msession\u001b[0m\u001b[0;34m,\u001b[0m \u001b[0mstate\u001b[0m\u001b[0;34m,\u001b[0m \u001b[0mprimary_key_identity\u001b[0m\u001b[0;34m,\u001b[0m \u001b[0mpassive\u001b[0m\u001b[0;34m\u001b[0m\u001b[0;34m\u001b[0m\u001b[0m\n\u001b[1;32m    761\u001b[0m         )\n",
      "\u001b[0;32m<string>\u001b[0m in \u001b[0;36m<lambda>\u001b[0;34m(self, session, state, primary_key_identity, passive)\u001b[0m\n",
      "\u001b[0;32m/g/data3/hh5/public/apps/miniconda3/envs/analysis3-21.01/lib/python3.8/site-packages/sqlalchemy/orm/strategies.py\u001b[0m in \u001b[0;36m_emit_lazyload\u001b[0;34m(self, strategy_options, session, state, primary_key_identity, passive)\u001b[0m\n\u001b[1;32m    845\u001b[0m \u001b[0;34m\u001b[0m\u001b[0m\n\u001b[1;32m    846\u001b[0m             return (\n\u001b[0;32m--> 847\u001b[0;31m                 \u001b[0mq\u001b[0m\u001b[0;34m(\u001b[0m\u001b[0msession\u001b[0m\u001b[0;34m)\u001b[0m\u001b[0;34m\u001b[0m\u001b[0;34m\u001b[0m\u001b[0m\n\u001b[0m\u001b[1;32m    848\u001b[0m                 \u001b[0;34m.\u001b[0m\u001b[0mwith_post_criteria\u001b[0m\u001b[0;34m(\u001b[0m\u001b[0;32mlambda\u001b[0m \u001b[0mq\u001b[0m\u001b[0;34m:\u001b[0m \u001b[0mq\u001b[0m\u001b[0;34m.\u001b[0m\u001b[0m_set_lazyload_from\u001b[0m\u001b[0;34m(\u001b[0m\u001b[0mstate\u001b[0m\u001b[0;34m)\u001b[0m\u001b[0;34m)\u001b[0m\u001b[0;34m\u001b[0m\u001b[0;34m\u001b[0m\u001b[0m\n\u001b[1;32m    849\u001b[0m                 ._load_on_pk_identity(\n",
      "\u001b[0;32m/g/data3/hh5/public/apps/miniconda3/envs/analysis3-21.01/lib/python3.8/site-packages/sqlalchemy/ext/baked.py\u001b[0m in \u001b[0;36m_load_on_pk_identity\u001b[0;34m(self, query, primary_key_identity)\u001b[0m\n\u001b[1;32m    613\u001b[0m         )\n\u001b[1;32m    614\u001b[0m \u001b[0;34m\u001b[0m\u001b[0m\n\u001b[0;32m--> 615\u001b[0;31m         \u001b[0mresult\u001b[0m \u001b[0;34m=\u001b[0m \u001b[0mlist\u001b[0m\u001b[0;34m(\u001b[0m\u001b[0mbq\u001b[0m\u001b[0;34m.\u001b[0m\u001b[0mfor_session\u001b[0m\u001b[0;34m(\u001b[0m\u001b[0mself\u001b[0m\u001b[0;34m.\u001b[0m\u001b[0msession\u001b[0m\u001b[0;34m)\u001b[0m\u001b[0;34m.\u001b[0m\u001b[0mparams\u001b[0m\u001b[0;34m(\u001b[0m\u001b[0;34m**\u001b[0m\u001b[0mparams\u001b[0m\u001b[0;34m)\u001b[0m\u001b[0;34m)\u001b[0m\u001b[0;34m\u001b[0m\u001b[0;34m\u001b[0m\u001b[0m\n\u001b[0m\u001b[1;32m    616\u001b[0m         \u001b[0ml\u001b[0m \u001b[0;34m=\u001b[0m \u001b[0mlen\u001b[0m\u001b[0;34m(\u001b[0m\u001b[0mresult\u001b[0m\u001b[0;34m)\u001b[0m\u001b[0;34m\u001b[0m\u001b[0;34m\u001b[0m\u001b[0m\n\u001b[1;32m    617\u001b[0m         \u001b[0;32mif\u001b[0m \u001b[0ml\u001b[0m \u001b[0;34m>\u001b[0m \u001b[0;36m1\u001b[0m\u001b[0;34m:\u001b[0m\u001b[0;34m\u001b[0m\u001b[0;34m\u001b[0m\u001b[0m\n",
      "\u001b[0;32m/g/data3/hh5/public/apps/miniconda3/envs/analysis3-21.01/lib/python3.8/site-packages/sqlalchemy/orm/loading.py\u001b[0m in \u001b[0;36minstances\u001b[0;34m(query, cursor, context)\u001b[0m\n\u001b[1;32m     98\u001b[0m     \u001b[0;32mexcept\u001b[0m \u001b[0mException\u001b[0m\u001b[0;34m:\u001b[0m\u001b[0;34m\u001b[0m\u001b[0;34m\u001b[0m\u001b[0m\n\u001b[1;32m     99\u001b[0m         \u001b[0;32mwith\u001b[0m \u001b[0mutil\u001b[0m\u001b[0;34m.\u001b[0m\u001b[0msafe_reraise\u001b[0m\u001b[0;34m(\u001b[0m\u001b[0;34m)\u001b[0m\u001b[0;34m:\u001b[0m\u001b[0;34m\u001b[0m\u001b[0;34m\u001b[0m\u001b[0m\n\u001b[0;32m--> 100\u001b[0;31m             \u001b[0mcursor\u001b[0m\u001b[0;34m.\u001b[0m\u001b[0mclose\u001b[0m\u001b[0;34m(\u001b[0m\u001b[0;34m)\u001b[0m\u001b[0;34m\u001b[0m\u001b[0;34m\u001b[0m\u001b[0m\n\u001b[0m\u001b[1;32m    101\u001b[0m \u001b[0;34m\u001b[0m\u001b[0m\n\u001b[1;32m    102\u001b[0m \u001b[0;34m\u001b[0m\u001b[0m\n",
      "\u001b[0;32m/g/data3/hh5/public/apps/miniconda3/envs/analysis3-21.01/lib/python3.8/site-packages/sqlalchemy/util/langhelpers.py\u001b[0m in \u001b[0;36m__exit__\u001b[0;34m(self, type_, value, traceback)\u001b[0m\n\u001b[1;32m     66\u001b[0m             \u001b[0mself\u001b[0m\u001b[0;34m.\u001b[0m\u001b[0m_exc_info\u001b[0m \u001b[0;34m=\u001b[0m \u001b[0;32mNone\u001b[0m  \u001b[0;31m# remove potential circular references\u001b[0m\u001b[0;34m\u001b[0m\u001b[0;34m\u001b[0m\u001b[0m\n\u001b[1;32m     67\u001b[0m             \u001b[0;32mif\u001b[0m \u001b[0;32mnot\u001b[0m \u001b[0mself\u001b[0m\u001b[0;34m.\u001b[0m\u001b[0mwarn_only\u001b[0m\u001b[0;34m:\u001b[0m\u001b[0;34m\u001b[0m\u001b[0;34m\u001b[0m\u001b[0m\n\u001b[0;32m---> 68\u001b[0;31m                 compat.raise_(\n\u001b[0m\u001b[1;32m     69\u001b[0m                     \u001b[0mexc_value\u001b[0m\u001b[0;34m,\u001b[0m\u001b[0;34m\u001b[0m\u001b[0;34m\u001b[0m\u001b[0m\n\u001b[1;32m     70\u001b[0m                     \u001b[0mwith_traceback\u001b[0m\u001b[0;34m=\u001b[0m\u001b[0mexc_tb\u001b[0m\u001b[0;34m,\u001b[0m\u001b[0;34m\u001b[0m\u001b[0;34m\u001b[0m\u001b[0m\n",
      "\u001b[0;32m/g/data3/hh5/public/apps/miniconda3/envs/analysis3-21.01/lib/python3.8/site-packages/sqlalchemy/util/compat.py\u001b[0m in \u001b[0;36mraise_\u001b[0;34m(***failed resolving arguments***)\u001b[0m\n\u001b[1;32m    180\u001b[0m \u001b[0;34m\u001b[0m\u001b[0m\n\u001b[1;32m    181\u001b[0m         \u001b[0;32mtry\u001b[0m\u001b[0;34m:\u001b[0m\u001b[0;34m\u001b[0m\u001b[0;34m\u001b[0m\u001b[0m\n\u001b[0;32m--> 182\u001b[0;31m             \u001b[0;32mraise\u001b[0m \u001b[0mexception\u001b[0m\u001b[0;34m\u001b[0m\u001b[0;34m\u001b[0m\u001b[0m\n\u001b[0m\u001b[1;32m    183\u001b[0m         \u001b[0;32mfinally\u001b[0m\u001b[0;34m:\u001b[0m\u001b[0;34m\u001b[0m\u001b[0;34m\u001b[0m\u001b[0m\n\u001b[1;32m    184\u001b[0m             \u001b[0;31m# credit to\u001b[0m\u001b[0;34m\u001b[0m\u001b[0;34m\u001b[0m\u001b[0;34m\u001b[0m\u001b[0m\n",
      "\u001b[0;32m/g/data3/hh5/public/apps/miniconda3/envs/analysis3-21.01/lib/python3.8/site-packages/sqlalchemy/orm/loading.py\u001b[0m in \u001b[0;36minstances\u001b[0;34m(query, cursor, context)\u001b[0m\n\u001b[1;32m     78\u001b[0m             \u001b[0;32mif\u001b[0m \u001b[0msingle_entity\u001b[0m\u001b[0;34m:\u001b[0m\u001b[0;34m\u001b[0m\u001b[0;34m\u001b[0m\u001b[0m\n\u001b[1;32m     79\u001b[0m                 \u001b[0mproc\u001b[0m \u001b[0;34m=\u001b[0m \u001b[0mprocess\u001b[0m\u001b[0;34m[\u001b[0m\u001b[0;36m0\u001b[0m\u001b[0;34m]\u001b[0m\u001b[0;34m\u001b[0m\u001b[0;34m\u001b[0m\u001b[0m\n\u001b[0;32m---> 80\u001b[0;31m                 \u001b[0mrows\u001b[0m \u001b[0;34m=\u001b[0m \u001b[0;34m[\u001b[0m\u001b[0mproc\u001b[0m\u001b[0;34m(\u001b[0m\u001b[0mrow\u001b[0m\u001b[0;34m)\u001b[0m \u001b[0;32mfor\u001b[0m \u001b[0mrow\u001b[0m \u001b[0;32min\u001b[0m \u001b[0mfetch\u001b[0m\u001b[0;34m]\u001b[0m\u001b[0;34m\u001b[0m\u001b[0;34m\u001b[0m\u001b[0m\n\u001b[0m\u001b[1;32m     81\u001b[0m             \u001b[0;32melse\u001b[0m\u001b[0;34m:\u001b[0m\u001b[0;34m\u001b[0m\u001b[0;34m\u001b[0m\u001b[0m\n\u001b[1;32m     82\u001b[0m                 rows = [\n",
      "\u001b[0;32m/g/data3/hh5/public/apps/miniconda3/envs/analysis3-21.01/lib/python3.8/site-packages/sqlalchemy/orm/loading.py\u001b[0m in \u001b[0;36m<listcomp>\u001b[0;34m(.0)\u001b[0m\n\u001b[1;32m     78\u001b[0m             \u001b[0;32mif\u001b[0m \u001b[0msingle_entity\u001b[0m\u001b[0;34m:\u001b[0m\u001b[0;34m\u001b[0m\u001b[0;34m\u001b[0m\u001b[0m\n\u001b[1;32m     79\u001b[0m                 \u001b[0mproc\u001b[0m \u001b[0;34m=\u001b[0m \u001b[0mprocess\u001b[0m\u001b[0;34m[\u001b[0m\u001b[0;36m0\u001b[0m\u001b[0;34m]\u001b[0m\u001b[0;34m\u001b[0m\u001b[0;34m\u001b[0m\u001b[0m\n\u001b[0;32m---> 80\u001b[0;31m                 \u001b[0mrows\u001b[0m \u001b[0;34m=\u001b[0m \u001b[0;34m[\u001b[0m\u001b[0mproc\u001b[0m\u001b[0;34m(\u001b[0m\u001b[0mrow\u001b[0m\u001b[0;34m)\u001b[0m \u001b[0;32mfor\u001b[0m \u001b[0mrow\u001b[0m \u001b[0;32min\u001b[0m \u001b[0mfetch\u001b[0m\u001b[0;34m]\u001b[0m\u001b[0;34m\u001b[0m\u001b[0;34m\u001b[0m\u001b[0m\n\u001b[0m\u001b[1;32m     81\u001b[0m             \u001b[0;32melse\u001b[0m\u001b[0;34m:\u001b[0m\u001b[0;34m\u001b[0m\u001b[0;34m\u001b[0m\u001b[0m\n\u001b[1;32m     82\u001b[0m                 rows = [\n",
      "\u001b[0;32m/g/data3/hh5/public/apps/miniconda3/envs/analysis3-21.01/lib/python3.8/site-packages/sqlalchemy/orm/loading.py\u001b[0m in \u001b[0;36m_instance\u001b[0;34m(row)\u001b[0m\n\u001b[1;32m    577\u001b[0m                 \u001b[0mstate\u001b[0m\u001b[0;34m.\u001b[0m\u001b[0mload_path\u001b[0m \u001b[0;34m=\u001b[0m \u001b[0mload_path\u001b[0m\u001b[0;34m\u001b[0m\u001b[0;34m\u001b[0m\u001b[0m\n\u001b[1;32m    578\u001b[0m \u001b[0;34m\u001b[0m\u001b[0m\n\u001b[0;32m--> 579\u001b[0;31m             _populate_full(\n\u001b[0m\u001b[1;32m    580\u001b[0m                 \u001b[0mcontext\u001b[0m\u001b[0;34m,\u001b[0m\u001b[0;34m\u001b[0m\u001b[0;34m\u001b[0m\u001b[0m\n\u001b[1;32m    581\u001b[0m                 \u001b[0mrow\u001b[0m\u001b[0;34m,\u001b[0m\u001b[0;34m\u001b[0m\u001b[0;34m\u001b[0m\u001b[0m\n",
      "\u001b[0;32m/g/data3/hh5/public/apps/miniconda3/envs/analysis3-21.01/lib/python3.8/site-packages/sqlalchemy/orm/loading.py\u001b[0m in \u001b[0;36m_populate_full\u001b[0;34m(context, row, state, dict_, isnew, load_path, loaded_instance, populate_existing, populators)\u001b[0m\n\u001b[1;32m    723\u001b[0m \u001b[0;34m\u001b[0m\u001b[0m\n\u001b[1;32m    724\u001b[0m         \u001b[0;32mfor\u001b[0m \u001b[0mkey\u001b[0m\u001b[0;34m,\u001b[0m \u001b[0mgetter\u001b[0m \u001b[0;32min\u001b[0m \u001b[0mpopulators\u001b[0m\u001b[0;34m[\u001b[0m\u001b[0;34m\"quick\"\u001b[0m\u001b[0;34m]\u001b[0m\u001b[0;34m:\u001b[0m\u001b[0;34m\u001b[0m\u001b[0;34m\u001b[0m\u001b[0m\n\u001b[0;32m--> 725\u001b[0;31m             \u001b[0mdict_\u001b[0m\u001b[0;34m[\u001b[0m\u001b[0mkey\u001b[0m\u001b[0;34m]\u001b[0m \u001b[0;34m=\u001b[0m \u001b[0mgetter\u001b[0m\u001b[0;34m(\u001b[0m\u001b[0mrow\u001b[0m\u001b[0;34m)\u001b[0m\u001b[0;34m\u001b[0m\u001b[0;34m\u001b[0m\u001b[0m\n\u001b[0m\u001b[1;32m    726\u001b[0m         \u001b[0;32mif\u001b[0m \u001b[0mpopulate_existing\u001b[0m\u001b[0;34m:\u001b[0m\u001b[0;34m\u001b[0m\u001b[0;34m\u001b[0m\u001b[0m\n\u001b[1;32m    727\u001b[0m             \u001b[0;32mfor\u001b[0m \u001b[0mkey\u001b[0m\u001b[0;34m,\u001b[0m \u001b[0mset_callable\u001b[0m \u001b[0;32min\u001b[0m \u001b[0mpopulators\u001b[0m\u001b[0;34m[\u001b[0m\u001b[0;34m\"expire\"\u001b[0m\u001b[0;34m]\u001b[0m\u001b[0;34m:\u001b[0m\u001b[0;34m\u001b[0m\u001b[0;34m\u001b[0m\u001b[0m\n",
      "\u001b[0;31mValueError\u001b[0m: Couldn't parse datetime string: '2020-06-11'"
     ]
    }
   ],
   "source": [
    "# Latitude range (pan-Antarctic)\n",
    "lat_min = -80\n",
    "lat_max = -60\n",
    "\n",
    "# Import temperature, convert to degree Celsius\n",
    "temp = cc.querying.getvar(expt=expt, variable='temp', session=session, start_time=start_time, end_time=end_time, frequency='1 monthly') - 273.15\n",
    "\n",
    "# Select latitude range:\n",
    "temp = temp.sel(yt_ocean = slice(lat_min, lat_max))\n",
    "\n",
    "# Calculating annual average:\n",
    "temp = temp.mean('time')\n",
    "\n",
    "# Select surface ocean:\n",
    "temp_surface = temp.sel(st_ocean=0, method='nearest')\n",
    "# Select slice at 250 m depth:\n",
    "temp_250m    = temp.sel(st_ocean=250, method='nearest')\n",
    "\n",
    "temp_surface"
   ]
  },
  {
   "cell_type": "markdown",
   "metadata": {},
   "source": [
    "### Complete Southern Ocean\n",
    "\n",
    "First, we want to make a map of Southern Ocean, the example is in file of barotropic streamfunction of cosima-recipes."
   ]
  },
  {
   "cell_type": "code",
   "execution_count": null,
   "metadata": {},
   "outputs": [],
   "source": [
    "# Define the levels for the contourf\n",
    "lvls = np.arange(-15, 15, 0.5)\n",
    "\n",
    "fig = plt.figure(figsize = (12, 8))\n",
    "ax = fig.add_subplot(111, projection = ccrs.SouthPolarStereo())\n",
    "ax.set_extent([-180, 180, -80, -60], crs=ccrs.PlateCarree())\n",
    "\n",
    "# Map the plot boundaries to a circle\n",
    "theta = np.linspace(0, 2*np.pi, 100)\n",
    "center, radius = [0.5, 0.5], 0.5\n",
    "verts = np.vstack([np.sin(theta), np.cos(theta)]).T\n",
    "circle = mpath.Path(verts * radius + center)\n",
    "ax.set_boundary(circle, transform=ax.transAxes)\n",
    "\n",
    "# Add land features and gridlines\n",
    "ax.add_feature(cfeature.NaturalEarthFeature('physical', 'land', '50m', edgecolor='black',\n",
    "               facecolor='lightgray'), zorder = 2)\n",
    "ax.gridlines(color='grey', linestyle='--')\n",
    "\n",
    "# Plot the surface ocean temperature\n",
    "cf = ax.contourf(temp_surface['xt_ocean'], temp_surface['yt_ocean'], temp_surface, levels = lvls, cmap = cm.cm.thermal, \n",
    "                 extend = 'both', transform = ccrs.PlateCarree())\n",
    "\n",
    "# Add a colorbar\n",
    "cbar = fig.colorbar(cf, ax = ax, orientation = 'vertical', shrink = 0.5)\n",
    "cbar.set_label('Temperature [C]')\n",
    "\n",
    "plt.title('Surface temperature of Southern Ocean from -80N to -60N [C]', fontsize=16)"
   ]
  },
  {
   "cell_type": "code",
   "execution_count": null,
   "metadata": {},
   "outputs": [],
   "source": [
    "# Define the levels for the contourf\n",
    "lvls = np.arange(-15, 15, 0.5)\n",
    "\n",
    "fig = plt.figure(figsize = (12, 8))\n",
    "ax = fig.add_subplot(111, projection = ccrs.SouthPolarStereo())\n",
    "ax.set_extent([-180, 180, -80, -60], crs=ccrs.PlateCarree())\n",
    "\n",
    "# Map the plot boundaries to a circle\n",
    "theta = np.linspace(0, 2*np.pi, 100)\n",
    "center, radius = [0.5, 0.5], 0.5\n",
    "verts = np.vstack([np.sin(theta), np.cos(theta)]).T\n",
    "circle = mpath.Path(verts * radius + center)\n",
    "ax.set_boundary(circle, transform=ax.transAxes)\n",
    "\n",
    "# Add land features and gridlines\n",
    "ax.add_feature(cfeature.NaturalEarthFeature('physical', 'land', '50m', edgecolor='black',\n",
    "               facecolor='lightgray'), zorder = 2)\n",
    "ax.gridlines(color='grey', linestyle='--')\n",
    "\n",
    "# Plot the surface ocean temperature\n",
    "cf = ax.contourf(temp_250m['xt_ocean'], temp_250m['yt_ocean'], temp_250m, levels = lvls, cmap = cm.cm.thermal, \n",
    "                 extend = 'both', transform = ccrs.PlateCarree())\n",
    "\n",
    "# Add a colorbar\n",
    "cbar = fig.colorbar(cf, ax = ax, orientation = 'vertical', shrink = 0.5)\n",
    "cbar.set_label('Temperature [C]')\n",
    "\n",
    "plt.title('250m depth temperature of Southern Ocean from -80N to -60N [C]', fontsize=16)"
   ]
  },
  {
   "cell_type": "markdown",
   "metadata": {},
   "source": [
    "### Region of the Southern Ocean\n",
    "\n",
    "Second, we want to make a map of a region in Southern Ocean, the example is in file of barotropic streamfunction of cosima-recipes."
   ]
  },
  {
   "cell_type": "code",
   "execution_count": null,
   "metadata": {},
   "outputs": [],
   "source": [
    "# Select the region in the variables from -60E to 60E\n",
    "temp_re_surface = temp_surface.sel(xt_ocean = slice(-60, 60))\n",
    "\n",
    "# Define the levels for the contourf\n",
    "lvls = np.arange(-2, 1, 0.1)\n",
    "\n",
    "fig = plt.figure(figsize = (12, 8))\n",
    "ax = fig.add_subplot(111, projection = ccrs.AlbersEqualArea(central_longitude = 0, central_latitude = -62.5, standard_parallels = (-70, -50)))\n",
    "ax.set_extent([-60, 60, -80, -60], crs=ccrs.PlateCarree())\n",
    "\n",
    "# Map the plot boundaries to the lat, lon boundaries\n",
    "vertices = [(lon, -80) for lon in range(-60, 60+1, 1)] + [(lon, -60) for lon in range(60, -60-1, -1)]\n",
    "boundary = mpath.Path(vertices)\n",
    "ax.set_boundary(boundary, transform=ccrs.PlateCarree())\n",
    "\n",
    "# Add land features and gridlines\n",
    "ax.add_feature(cfeature.NaturalEarthFeature('physical', 'land', '50m', edgecolor='black',\n",
    "               facecolor='lightgray'), zorder = 2)\n",
    "ax.gridlines(color='grey', linestyle='--')\n",
    "\n",
    "# Plot the surface ocean temperature\n",
    "cf = ax.contourf(temp_re_surface['xt_ocean'], temp_re_surface['yt_ocean'], temp_re_surface, levels = lvls, cmap = cm.cm.thermal, \n",
    "                 extend = 'both', transform = ccrs.PlateCarree())\n",
    "\n",
    "# Add a colorbar\n",
    "cbar = fig.colorbar(cf, ax = ax, orientation = 'vertical', shrink = 0.5)\n",
    "cbar.set_label('Temperature [C]')\n",
    "\n",
    "plt.title('Surface temperature of a region from -60E to 60E [C]', fontsize=16)"
   ]
  },
  {
   "cell_type": "code",
   "execution_count": null,
   "metadata": {},
   "outputs": [],
   "source": [
    "# Select the region in the variables from -60E to 60E\n",
    "temp_re_250m = temp_250m.sel(xt_ocean = slice(-60, 60))\n",
    "\n",
    "# Define the levels for the contourf\n",
    "lvls = np.arange(-2, 1, 0.1)\n",
    "\n",
    "fig = plt.figure(figsize = (12, 8))\n",
    "ax = fig.add_subplot(111, projection = ccrs.AlbersEqualArea(central_longitude = 0, central_latitude = -62.5, standard_parallels = (-70, -50)))\n",
    "ax.set_extent([-60, 60, -80, -60], crs=ccrs.PlateCarree())\n",
    "\n",
    "# Map the plot boundaries to the lat, lon boundaries\n",
    "vertices = [(lon, -80) for lon in range(-60, 60+1, 1)] + [(lon, -60) for lon in range(60, -60-1, -1)]\n",
    "boundary = mpath.Path(vertices)\n",
    "ax.set_boundary(boundary, transform=ccrs.PlateCarree())\n",
    "\n",
    "# Add land features and gridlines\n",
    "ax.add_feature(cfeature.NaturalEarthFeature('physical', 'land', '50m', edgecolor='black',\n",
    "               facecolor='lightgray'), zorder = 2)\n",
    "ax.gridlines(color='grey', linestyle='--')\n",
    "\n",
    "# Plot the surface ocean temperature\n",
    "cf = ax.contourf(temp_re_250m['xt_ocean'], temp_re_250m['yt_ocean'], temp_re_250m, levels = lvls, cmap = cm.cm.thermal, \n",
    "                 extend = 'both', transform = ccrs.PlateCarree())\n",
    "\n",
    "# Add a colorbar\n",
    "cbar = fig.colorbar(cf, ax = ax, orientation = 'vertical', shrink = 0.5)\n",
    "cbar.set_label('Temperature [C]')\n",
    "\n",
    "plt.title('250m depth temperature of a region from -60E to 60E [C]', fontsize=16)"
   ]
  },
  {
   "cell_type": "markdown",
   "metadata": {},
   "source": [
    "### Cross-slope section of temperature\n",
    "\n",
    "Third, we want to make a transect of temperature in a certain longitude, the example is in file of Cross-slope section of cosima-recipes."
   ]
  },
  {
   "cell_type": "code",
   "execution_count": null,
   "metadata": {},
   "outputs": [],
   "source": [
    "# Define the levels for the contourf\n",
    "lvls = np.arange(-15, 15, 0.5)\n",
    "\n",
    "fig = plt.figure(figsize = (12, 8))\n",
    "ax = fig.add_subplot(111, projection = ccrs.SouthPolarStereo())\n",
    "ax.set_extent([-180, 180, -80, -60], crs=ccrs.PlateCarree())\n",
    "\n",
    "# Map the plot boundaries to a circle\n",
    "theta = np.linspace(0, 2*np.pi, 100)\n",
    "center, radius = [0.5, 0.5], 0.5\n",
    "verts = np.vstack([np.sin(theta), np.cos(theta)]).T\n",
    "circle = mpath.Path(verts * radius + center)\n",
    "ax.set_boundary(circle, transform=ax.transAxes)\n",
    "\n",
    "# Add land features and gridlines\n",
    "ax.add_feature(cfeature.NaturalEarthFeature('physical', 'land', '50m', edgecolor='black',\n",
    "               facecolor='lightgray'), zorder = 2)\n",
    "ax.gridlines(color='grey', linestyle='--')\n",
    "\n",
    "# Plot location of cross-slope section (East Antarctica)\n",
    "plt.plot([0, 0], [-70, -60], color='tomato', linewidth=3, transform=ccrs.PlateCarree())\n",
    "plt.plot([30, 30], [-70, -60], color='tomato', linewidth=3, transform=ccrs.PlateCarree())\n",
    "plt.plot([60, 60], [-70, -60], color='tomato', linewidth=3, transform=ccrs.PlateCarree())\n",
    "plt.plot([90, 90], [-70, -60], color='tomato', linewidth=3, transform=ccrs.PlateCarree())\n",
    "\n",
    "plt.title('Selected transects at different longitude', fontsize=16)"
   ]
  },
  {
   "cell_type": "code",
   "execution_count": null,
   "metadata": {},
   "outputs": [],
   "source": [
    "# Select transect, e.g. at prime meridian:\n",
    "temp_prime_meridian = temp.sel(xt_ocean=0, method='nearest')\n",
    "\n",
    "# Select the region in the variables from -70N to -60N\n",
    "temp_prime_meridian = temp_prime_meridian.sel(yt_ocean = slice(-70, -60))\n",
    "\n",
    "# Select transect\n",
    "temp_30 = temp.sel(xt_ocean=30, method='nearest')\n",
    "temp_60 = temp.sel(xt_ocean=60, method='nearest')\n",
    "temp_90 = temp.sel(xt_ocean=90, method='nearest')\n",
    "\n",
    "# Select transect from -70N to -60N\n",
    "temp_30 = temp_30.sel(yt_ocean = slice(-70, -60))\n",
    "temp_60 = temp_60.sel(yt_ocean = slice(-70, -60))\n",
    "temp_90 = temp_90.sel(yt_ocean = slice(-70, -60))\n",
    "\n",
    "ft_size=16\n",
    "fig = plt.figure(figsize=(15, 15))\n",
    "\n",
    "plt.subplot(4,1,1)\n",
    "plt.title('Transect at 0E', fontsize=ft_size, loc='left')\n",
    "plt.pcolormesh(temp_prime_meridian['yt_ocean'], temp_prime_meridian['st_ocean'], temp_prime_meridian, cmap=cm.cm.curl, vmin=-2, vmax=2) \n",
    "#'curl' can be swapped with 'thermal'\n",
    "# Colorbar\n",
    "cbar = plt.colorbar()\n",
    "cbar.set_label('Temperature (C)', fontsize=ft_size)\n",
    "cbar.ax.tick_params(labelsize=ft_size)\n",
    "# Axes\n",
    "plt.gca().invert_yaxis()\n",
    "plt.gca().invert_xaxis()\n",
    "plt.xlabel('Latitude (degree)', fontsize=ft_size)\n",
    "plt.ylabel('Depth (m)', fontsize=ft_size)\n",
    "\n",
    "plt.title('temperature transect of at 0E [C]', fontsize=16)\n",
    "\n",
    "plt.subplot(4,1,2)\n",
    "plt.title('Transect at 30E', fontsize=ft_size, loc='left')\n",
    "plt.pcolormesh(temp_30['yt_ocean'], temp_30['st_ocean'], temp_30, cmap=cm.cm.curl, vmin=-2, vmax=2)\n",
    "# Colorbar\n",
    "cbar = plt.colorbar()\n",
    "cbar.set_label('Temperature (C)', fontsize=ft_size)\n",
    "cbar.ax.tick_params(labelsize=ft_size)\n",
    "# Axes\n",
    "plt.gca().invert_yaxis()\n",
    "plt.gca().invert_xaxis()\n",
    "plt.xlabel('Latitude (degree)', fontsize=ft_size)\n",
    "plt.ylabel('Depth (m)', fontsize=ft_size)\n",
    "\n",
    "plt.subplot(4,1,3)\n",
    "plt.title('Transect at 60E', fontsize=ft_size, loc='left')\n",
    "plt.pcolormesh(temp_60['yt_ocean'], temp_60['st_ocean'], temp_60, cmap=cm.cm.curl, vmin=-2, vmax=2)\n",
    "# Colorbar\n",
    "cbar = plt.colorbar()\n",
    "cbar.set_label('Temperature (C)', fontsize=ft_size)\n",
    "cbar.ax.tick_params(labelsize=ft_size)\n",
    "# Axes\n",
    "plt.gca().invert_yaxis()\n",
    "plt.gca().invert_xaxis()\n",
    "plt.xlabel('Latitude (degree)', fontsize=ft_size)\n",
    "plt.ylabel('Depth (m)', fontsize=ft_size)\n",
    "\n",
    "plt.subplot(4,1,4)\n",
    "plt.title('Transect at 90E', fontsize=ft_size, loc='left')\n",
    "plt.pcolormesh(temp_90['yt_ocean'], temp_90['st_ocean'], temp_90, cmap=cm.cm.curl, vmin=-2, vmax=2)\n",
    "# Colorbar\n",
    "cbar = plt.colorbar()\n",
    "cbar.set_label('Temperature (C)', fontsize=ft_size)\n",
    "cbar.ax.tick_params(labelsize=ft_size)\n",
    "# Axes\n",
    "plt.gca().invert_yaxis()\n",
    "plt.gca().invert_xaxis()\n",
    "plt.xlabel('Latitude (degree)', fontsize=ft_size)\n",
    "plt.ylabel('Depth (m)', fontsize=ft_size)"
   ]
  },
  {
   "cell_type": "code",
   "execution_count": null,
   "metadata": {},
   "outputs": [],
   "source": []
  }
 ],
 "metadata": {
  "kernelspec": {
   "display_name": "Python [conda env:analysis3-21.01] *",
   "language": "python",
   "name": "conda-env-analysis3-21.01-py"
  },
  "language_info": {
   "codemirror_mode": {
    "name": "ipython",
    "version": 3
   },
   "file_extension": ".py",
   "mimetype": "text/x-python",
   "name": "python",
   "nbconvert_exporter": "python",
   "pygments_lexer": "ipython3",
   "version": "3.8.6"
  }
 },
 "nbformat": 4,
 "nbformat_minor": 4
}
