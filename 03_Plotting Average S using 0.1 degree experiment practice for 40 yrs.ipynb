{
 "cells": [
  {
   "cell_type": "markdown",
   "id": "8e9ef79b",
   "metadata": {},
   "source": [
    "Example of how to plot the average temperature above 1km depth using mask around Antarctica using experiment from 01deg_jra55v13_ryf9091."
   ]
  },
  {
   "cell_type": "code",
   "execution_count": 7,
   "id": "d34bfcc6",
   "metadata": {},
   "outputs": [],
   "source": [
    "%matplotlib inline\n",
    "\n",
    "# Standard modules\n",
    "import cosima_cookbook as cc\n",
    "from dask.distributed import Client\n",
    "import numpy as np\n",
    "import xarray as xr\n",
    "import netCDF4 as nc\n",
    "\n",
    "# For plotting\n",
    "import cartopy.crs as ccrs\n",
    "import matplotlib.pyplot as plt\n",
    "import matplotlib.path as mpath\n",
    "import matplotlib.patches as patches\n",
    "import cmocean as cm\n",
    "\n",
    "#From file of \"Age at the Bottom of the Ocean\"\n",
    "from collections import OrderedDict\n",
    "import cftime\n",
    "import glob\n",
    "\n",
    "#From file of \"Cross-slope section\"\n",
    "# For gradient calculation (We will need the topographic gradient to calculate the along-slope velocity component)\n",
    "import xgcm\n",
    "# Load metpy module to obtain cross section (Select the conda/analusis3-unstable kernel if you have problems loading this module)\n",
    "from metpy.interpolate import cross_section\n",
    "\n",
    "#From file of \"barotropic streamfunction\"\n",
    "import cartopy.feature as cfeature\n",
    "from cartopy.mpl.gridliner import LONGITUDE_FORMATTER, LATITUDE_FORMATTER\n",
    "\n",
    "# Avoid the Runtime errors in true_divide encountered when trying to divide by zero\n",
    "import warnings\n",
    "warnings.filterwarnings('ignore', category = RuntimeWarning) \n",
    "\n",
    "import logging\n",
    "logging.captureWarnings(True)\n",
    "logging.getLogger('py.warnings').setLevel(logging.ERROR)"
   ]
  },
  {
   "cell_type": "code",
   "execution_count": 8,
   "id": "073c5c4b",
   "metadata": {},
   "outputs": [],
   "source": [
    "client = Client(n_workers=4)\n",
    "\n",
    "# Load database\n",
    "session = cc.database.create_session()"
   ]
  },
  {
   "cell_type": "code",
   "execution_count": 9,
   "id": "bd43c5f9",
   "metadata": {},
   "outputs": [
    {
     "ename": "OperationalError",
     "evalue": "(sqlite3.OperationalError) no such column: ncattributes.name_id\n[SQL: SELECT ncattributes.id AS ncattributes_id, ncattributes.ncvar_id AS ncattributes_ncvar_id, ncattributes.ncfile_id AS ncattributes_ncfile_id, ncattributes.name_id AS ncattributes_name_id, ncattributes.value_id AS ncattributes_value_id \nFROM ncattributes \nWHERE ? = ncattributes.ncvar_id]\n[parameters: (787104,)]\n(Background on this error at: http://sqlalche.me/e/13/e3q8)",
     "output_type": "error",
     "traceback": [
      "\u001b[0;31m---------------------------------------------------------------------------\u001b[0m",
      "\u001b[0;31mOperationalError\u001b[0m                          Traceback (most recent call last)",
      "\u001b[0;32m/g/data3/hh5/public/apps/miniconda3/envs/analysis3-21.04/lib/python3.8/site-packages/sqlalchemy/engine/base.py\u001b[0m in \u001b[0;36m_execute_context\u001b[0;34m(self, dialect, constructor, statement, parameters, *args)\u001b[0m\n\u001b[1;32m   1275\u001b[0m                 \u001b[0;32mif\u001b[0m \u001b[0;32mnot\u001b[0m \u001b[0mevt_handled\u001b[0m\u001b[0;34m:\u001b[0m\u001b[0;34m\u001b[0m\u001b[0;34m\u001b[0m\u001b[0m\n\u001b[0;32m-> 1276\u001b[0;31m                     self.dialect.do_execute(\n\u001b[0m\u001b[1;32m   1277\u001b[0m                         \u001b[0mcursor\u001b[0m\u001b[0;34m,\u001b[0m \u001b[0mstatement\u001b[0m\u001b[0;34m,\u001b[0m \u001b[0mparameters\u001b[0m\u001b[0;34m,\u001b[0m \u001b[0mcontext\u001b[0m\u001b[0;34m\u001b[0m\u001b[0;34m\u001b[0m\u001b[0m\n",
      "\u001b[0;32m/g/data3/hh5/public/apps/miniconda3/envs/analysis3-21.04/lib/python3.8/site-packages/sqlalchemy/engine/default.py\u001b[0m in \u001b[0;36mdo_execute\u001b[0;34m(self, cursor, statement, parameters, context)\u001b[0m\n\u001b[1;32m    607\u001b[0m     \u001b[0;32mdef\u001b[0m \u001b[0mdo_execute\u001b[0m\u001b[0;34m(\u001b[0m\u001b[0mself\u001b[0m\u001b[0;34m,\u001b[0m \u001b[0mcursor\u001b[0m\u001b[0;34m,\u001b[0m \u001b[0mstatement\u001b[0m\u001b[0;34m,\u001b[0m \u001b[0mparameters\u001b[0m\u001b[0;34m,\u001b[0m \u001b[0mcontext\u001b[0m\u001b[0;34m=\u001b[0m\u001b[0;32mNone\u001b[0m\u001b[0;34m)\u001b[0m\u001b[0;34m:\u001b[0m\u001b[0;34m\u001b[0m\u001b[0;34m\u001b[0m\u001b[0m\n\u001b[0;32m--> 608\u001b[0;31m         \u001b[0mcursor\u001b[0m\u001b[0;34m.\u001b[0m\u001b[0mexecute\u001b[0m\u001b[0;34m(\u001b[0m\u001b[0mstatement\u001b[0m\u001b[0;34m,\u001b[0m \u001b[0mparameters\u001b[0m\u001b[0;34m)\u001b[0m\u001b[0;34m\u001b[0m\u001b[0;34m\u001b[0m\u001b[0m\n\u001b[0m\u001b[1;32m    609\u001b[0m \u001b[0;34m\u001b[0m\u001b[0m\n",
      "\u001b[0;31mOperationalError\u001b[0m: no such column: ncattributes.name_id",
      "\nThe above exception was the direct cause of the following exception:\n",
      "\u001b[0;31mOperationalError\u001b[0m                          Traceback (most recent call last)",
      "\u001b[0;32m<ipython-input-9-f94a129afd04>\u001b[0m in \u001b[0;36m<module>\u001b[0;34m\u001b[0m\n\u001b[1;32m      4\u001b[0m \u001b[0;34m\u001b[0m\u001b[0m\n\u001b[1;32m      5\u001b[0m \u001b[0;31m# Import variables from experiments, convert temperature to degree Celsius\u001b[0m\u001b[0;34m\u001b[0m\u001b[0;34m\u001b[0m\u001b[0;34m\u001b[0m\u001b[0m\n\u001b[0;32m----> 6\u001b[0;31m salt = cc.querying.getvar(expt='01deg_jra55v13_ryf9091', variable='salt', \n\u001b[0m\u001b[1;32m      7\u001b[0m                           \u001b[0msession\u001b[0m\u001b[0;34m=\u001b[0m\u001b[0msession\u001b[0m\u001b[0;34m,\u001b[0m \u001b[0mfrequency\u001b[0m\u001b[0;34m=\u001b[0m\u001b[0;34m'1 monthly'\u001b[0m\u001b[0;34m,\u001b[0m\u001b[0;34m\u001b[0m\u001b[0;34m\u001b[0m\u001b[0m\n\u001b[1;32m      8\u001b[0m                           \u001b[0mstart_time\u001b[0m\u001b[0;34m=\u001b[0m\u001b[0;34m'1999-12-31 00:00:00'\u001b[0m\u001b[0;34m,\u001b[0m\u001b[0;34m\u001b[0m\u001b[0;34m\u001b[0m\u001b[0m\n",
      "\u001b[0;32m/g/data3/hh5/public/apps/miniconda3/envs/analysis3-21.04/lib/python3.8/site-packages/cosima_cookbook/querying.py\u001b[0m in \u001b[0;36mgetvar\u001b[0;34m(expt, variable, session, ncfile, start_time, end_time, n, frequency, attrs, **kwargs)\u001b[0m\n\u001b[1;32m    190\u001b[0m \u001b[0;34m\u001b[0m\u001b[0m\n\u001b[1;32m    191\u001b[0m     \u001b[0;31m# we know at least one variable was returned\u001b[0m\u001b[0;34m\u001b[0m\u001b[0;34m\u001b[0m\u001b[0;34m\u001b[0m\u001b[0m\n\u001b[0;32m--> 192\u001b[0;31m     \u001b[0mvariables\u001b[0m \u001b[0;34m=\u001b[0m \u001b[0m_bounds_vars_for_variable\u001b[0m\u001b[0;34m(\u001b[0m\u001b[0;34m*\u001b[0m\u001b[0mncfiles\u001b[0m\u001b[0;34m[\u001b[0m\u001b[0;36m0\u001b[0m\u001b[0;34m]\u001b[0m\u001b[0;34m)\u001b[0m\u001b[0;34m\u001b[0m\u001b[0;34m\u001b[0m\u001b[0m\n\u001b[0m\u001b[1;32m    193\u001b[0m \u001b[0;34m\u001b[0m\u001b[0m\n\u001b[1;32m    194\u001b[0m     \u001b[0;31m# chunking -- use first row/file and assume it's the same across the whole dataset\u001b[0m\u001b[0;34m\u001b[0m\u001b[0;34m\u001b[0m\u001b[0;34m\u001b[0m\u001b[0m\n",
      "\u001b[0;32m/g/data3/hh5/public/apps/miniconda3/envs/analysis3-21.04/lib/python3.8/site-packages/cosima_cookbook/querying.py\u001b[0m in \u001b[0;36m_bounds_vars_for_variable\u001b[0;34m(ncfile, ncvar)\u001b[0m\n\u001b[1;32m    226\u001b[0m     \u001b[0mvariables\u001b[0m \u001b[0;34m=\u001b[0m \u001b[0;34m[\u001b[0m\u001b[0mncvar\u001b[0m\u001b[0;34m.\u001b[0m\u001b[0mvarname\u001b[0m\u001b[0;34m]\u001b[0m\u001b[0;34m\u001b[0m\u001b[0;34m\u001b[0m\u001b[0m\n\u001b[1;32m    227\u001b[0m \u001b[0;34m\u001b[0m\u001b[0m\n\u001b[0;32m--> 228\u001b[0;31m     \u001b[0;32mif\u001b[0m \u001b[0;34m\"cell_methods\"\u001b[0m \u001b[0;32mnot\u001b[0m \u001b[0;32min\u001b[0m \u001b[0mncvar\u001b[0m\u001b[0;34m.\u001b[0m\u001b[0mattrs\u001b[0m\u001b[0;34m:\u001b[0m\u001b[0;34m\u001b[0m\u001b[0;34m\u001b[0m\u001b[0m\n\u001b[0m\u001b[1;32m    229\u001b[0m         \u001b[0;31m# no cell methods, so no need to look for bounds\u001b[0m\u001b[0;34m\u001b[0m\u001b[0;34m\u001b[0m\u001b[0;34m\u001b[0m\u001b[0m\n\u001b[1;32m    230\u001b[0m         \u001b[0;32mreturn\u001b[0m \u001b[0mvariables\u001b[0m\u001b[0;34m\u001b[0m\u001b[0;34m\u001b[0m\u001b[0m\n",
      "\u001b[0;32m/g/data3/hh5/public/apps/miniconda3/envs/analysis3-21.04/lib/python3.8/site-packages/sqlalchemy/ext/associationproxy.py\u001b[0m in \u001b[0;36m__get__\u001b[0;34m(self, obj, class_)\u001b[0m\n\u001b[1;32m    191\u001b[0m         \u001b[0minst\u001b[0m \u001b[0;34m=\u001b[0m \u001b[0mself\u001b[0m\u001b[0;34m.\u001b[0m\u001b[0m_as_instance\u001b[0m\u001b[0;34m(\u001b[0m\u001b[0mclass_\u001b[0m\u001b[0;34m,\u001b[0m \u001b[0mobj\u001b[0m\u001b[0;34m)\u001b[0m\u001b[0;34m\u001b[0m\u001b[0;34m\u001b[0m\u001b[0m\n\u001b[1;32m    192\u001b[0m         \u001b[0;32mif\u001b[0m \u001b[0minst\u001b[0m\u001b[0;34m:\u001b[0m\u001b[0;34m\u001b[0m\u001b[0;34m\u001b[0m\u001b[0m\n\u001b[0;32m--> 193\u001b[0;31m             \u001b[0;32mreturn\u001b[0m \u001b[0minst\u001b[0m\u001b[0;34m.\u001b[0m\u001b[0mget\u001b[0m\u001b[0;34m(\u001b[0m\u001b[0mobj\u001b[0m\u001b[0;34m)\u001b[0m\u001b[0;34m\u001b[0m\u001b[0;34m\u001b[0m\u001b[0m\n\u001b[0m\u001b[1;32m    194\u001b[0m \u001b[0;34m\u001b[0m\u001b[0m\n\u001b[1;32m    195\u001b[0m         \u001b[0;31m# obj has to be None here\u001b[0m\u001b[0;34m\u001b[0m\u001b[0;34m\u001b[0m\u001b[0;34m\u001b[0m\u001b[0m\n",
      "\u001b[0;32m/g/data3/hh5/public/apps/miniconda3/envs/analysis3-21.04/lib/python3.8/site-packages/sqlalchemy/ext/associationproxy.py\u001b[0m in \u001b[0;36mget\u001b[0;34m(self, obj)\u001b[0m\n\u001b[1;32m    558\u001b[0m                     \u001b[0;32mreturn\u001b[0m \u001b[0mproxy\u001b[0m\u001b[0;34m\u001b[0m\u001b[0;34m\u001b[0m\u001b[0m\n\u001b[1;32m    559\u001b[0m \u001b[0;34m\u001b[0m\u001b[0m\n\u001b[0;32m--> 560\u001b[0;31m             self.collection_class, proxy = self._new(\n\u001b[0m\u001b[1;32m    561\u001b[0m                 \u001b[0m_lazy_collection\u001b[0m\u001b[0;34m(\u001b[0m\u001b[0mobj\u001b[0m\u001b[0;34m,\u001b[0m \u001b[0mself\u001b[0m\u001b[0;34m.\u001b[0m\u001b[0mtarget_collection\u001b[0m\u001b[0;34m)\u001b[0m\u001b[0;34m\u001b[0m\u001b[0;34m\u001b[0m\u001b[0m\n\u001b[1;32m    562\u001b[0m             )\n",
      "\u001b[0;32m/g/data3/hh5/public/apps/miniconda3/envs/analysis3-21.04/lib/python3.8/site-packages/sqlalchemy/ext/associationproxy.py\u001b[0m in \u001b[0;36m_new\u001b[0;34m(self, lazy_collection)\u001b[0m\n\u001b[1;32m    600\u001b[0m             \u001b[0mself\u001b[0m\u001b[0;34m.\u001b[0m\u001b[0mparent\u001b[0m\u001b[0;34m.\u001b[0m\u001b[0mcreator\u001b[0m \u001b[0;32mif\u001b[0m \u001b[0mself\u001b[0m\u001b[0;34m.\u001b[0m\u001b[0mparent\u001b[0m\u001b[0;34m.\u001b[0m\u001b[0mcreator\u001b[0m \u001b[0;32melse\u001b[0m \u001b[0mself\u001b[0m\u001b[0;34m.\u001b[0m\u001b[0mtarget_class\u001b[0m\u001b[0;34m\u001b[0m\u001b[0;34m\u001b[0m\u001b[0m\n\u001b[1;32m    601\u001b[0m         )\n\u001b[0;32m--> 602\u001b[0;31m         \u001b[0mcollection_class\u001b[0m \u001b[0;34m=\u001b[0m \u001b[0mutil\u001b[0m\u001b[0;34m.\u001b[0m\u001b[0mduck_type_collection\u001b[0m\u001b[0;34m(\u001b[0m\u001b[0mlazy_collection\u001b[0m\u001b[0;34m(\u001b[0m\u001b[0;34m)\u001b[0m\u001b[0;34m)\u001b[0m\u001b[0;34m\u001b[0m\u001b[0;34m\u001b[0m\u001b[0m\n\u001b[0m\u001b[1;32m    603\u001b[0m \u001b[0;34m\u001b[0m\u001b[0m\n\u001b[1;32m    604\u001b[0m         \u001b[0;32mif\u001b[0m \u001b[0mself\u001b[0m\u001b[0;34m.\u001b[0m\u001b[0mparent\u001b[0m\u001b[0;34m.\u001b[0m\u001b[0mproxy_factory\u001b[0m\u001b[0;34m:\u001b[0m\u001b[0;34m\u001b[0m\u001b[0;34m\u001b[0m\u001b[0m\n",
      "\u001b[0;32m/g/data3/hh5/public/apps/miniconda3/envs/analysis3-21.04/lib/python3.8/site-packages/sqlalchemy/ext/associationproxy.py\u001b[0m in \u001b[0;36m__call__\u001b[0;34m(self)\u001b[0m\n\u001b[1;32m    930\u001b[0m \u001b[0;34m\u001b[0m\u001b[0m\n\u001b[1;32m    931\u001b[0m     \u001b[0;32mdef\u001b[0m \u001b[0m__call__\u001b[0m\u001b[0;34m(\u001b[0m\u001b[0mself\u001b[0m\u001b[0;34m)\u001b[0m\u001b[0;34m:\u001b[0m\u001b[0;34m\u001b[0m\u001b[0;34m\u001b[0m\u001b[0m\n\u001b[0;32m--> 932\u001b[0;31m         \u001b[0;32mreturn\u001b[0m \u001b[0mgetattr\u001b[0m\u001b[0;34m(\u001b[0m\u001b[0mself\u001b[0m\u001b[0;34m.\u001b[0m\u001b[0mparent\u001b[0m\u001b[0;34m,\u001b[0m \u001b[0mself\u001b[0m\u001b[0;34m.\u001b[0m\u001b[0mtarget\u001b[0m\u001b[0;34m)\u001b[0m\u001b[0;34m\u001b[0m\u001b[0;34m\u001b[0m\u001b[0m\n\u001b[0m\u001b[1;32m    933\u001b[0m \u001b[0;34m\u001b[0m\u001b[0m\n\u001b[1;32m    934\u001b[0m     \u001b[0;32mdef\u001b[0m \u001b[0m__getstate__\u001b[0m\u001b[0;34m(\u001b[0m\u001b[0mself\u001b[0m\u001b[0;34m)\u001b[0m\u001b[0;34m:\u001b[0m\u001b[0;34m\u001b[0m\u001b[0;34m\u001b[0m\u001b[0m\n",
      "\u001b[0;32m/g/data3/hh5/public/apps/miniconda3/envs/analysis3-21.04/lib/python3.8/site-packages/sqlalchemy/orm/attributes.py\u001b[0m in \u001b[0;36m__get__\u001b[0;34m(self, instance, owner)\u001b[0m\n\u001b[1;32m    292\u001b[0m             \u001b[0;32mreturn\u001b[0m \u001b[0mdict_\u001b[0m\u001b[0;34m[\u001b[0m\u001b[0mself\u001b[0m\u001b[0;34m.\u001b[0m\u001b[0mkey\u001b[0m\u001b[0;34m]\u001b[0m\u001b[0;34m\u001b[0m\u001b[0;34m\u001b[0m\u001b[0m\n\u001b[1;32m    293\u001b[0m         \u001b[0;32melse\u001b[0m\u001b[0;34m:\u001b[0m\u001b[0;34m\u001b[0m\u001b[0;34m\u001b[0m\u001b[0m\n\u001b[0;32m--> 294\u001b[0;31m             \u001b[0;32mreturn\u001b[0m \u001b[0mself\u001b[0m\u001b[0;34m.\u001b[0m\u001b[0mimpl\u001b[0m\u001b[0;34m.\u001b[0m\u001b[0mget\u001b[0m\u001b[0;34m(\u001b[0m\u001b[0minstance_state\u001b[0m\u001b[0;34m(\u001b[0m\u001b[0minstance\u001b[0m\u001b[0;34m)\u001b[0m\u001b[0;34m,\u001b[0m \u001b[0mdict_\u001b[0m\u001b[0;34m)\u001b[0m\u001b[0;34m\u001b[0m\u001b[0;34m\u001b[0m\u001b[0m\n\u001b[0m\u001b[1;32m    295\u001b[0m \u001b[0;34m\u001b[0m\u001b[0m\n\u001b[1;32m    296\u001b[0m \u001b[0;34m\u001b[0m\u001b[0m\n",
      "\u001b[0;32m/g/data3/hh5/public/apps/miniconda3/envs/analysis3-21.04/lib/python3.8/site-packages/sqlalchemy/orm/attributes.py\u001b[0m in \u001b[0;36mget\u001b[0;34m(self, state, dict_, passive)\u001b[0m\n\u001b[1;32m    728\u001b[0m                     \u001b[0mvalue\u001b[0m \u001b[0;34m=\u001b[0m \u001b[0mcallable_\u001b[0m\u001b[0;34m(\u001b[0m\u001b[0mstate\u001b[0m\u001b[0;34m,\u001b[0m \u001b[0mpassive\u001b[0m\u001b[0;34m)\u001b[0m\u001b[0;34m\u001b[0m\u001b[0;34m\u001b[0m\u001b[0m\n\u001b[1;32m    729\u001b[0m                 \u001b[0;32melif\u001b[0m \u001b[0mself\u001b[0m\u001b[0;34m.\u001b[0m\u001b[0mcallable_\u001b[0m\u001b[0;34m:\u001b[0m\u001b[0;34m\u001b[0m\u001b[0;34m\u001b[0m\u001b[0m\n\u001b[0;32m--> 730\u001b[0;31m                     \u001b[0mvalue\u001b[0m \u001b[0;34m=\u001b[0m \u001b[0mself\u001b[0m\u001b[0;34m.\u001b[0m\u001b[0mcallable_\u001b[0m\u001b[0;34m(\u001b[0m\u001b[0mstate\u001b[0m\u001b[0;34m,\u001b[0m \u001b[0mpassive\u001b[0m\u001b[0;34m)\u001b[0m\u001b[0;34m\u001b[0m\u001b[0;34m\u001b[0m\u001b[0m\n\u001b[0m\u001b[1;32m    731\u001b[0m                 \u001b[0;32melse\u001b[0m\u001b[0;34m:\u001b[0m\u001b[0;34m\u001b[0m\u001b[0;34m\u001b[0m\u001b[0m\n\u001b[1;32m    732\u001b[0m                     \u001b[0mvalue\u001b[0m \u001b[0;34m=\u001b[0m \u001b[0mATTR_EMPTY\u001b[0m\u001b[0;34m\u001b[0m\u001b[0;34m\u001b[0m\u001b[0m\n",
      "\u001b[0;32m/g/data3/hh5/public/apps/miniconda3/envs/analysis3-21.04/lib/python3.8/site-packages/sqlalchemy/orm/strategies.py\u001b[0m in \u001b[0;36m_load_for_state\u001b[0;34m(self, state, passive)\u001b[0m\n\u001b[1;32m    757\u001b[0m                 \u001b[0;32mreturn\u001b[0m \u001b[0mattributes\u001b[0m\u001b[0;34m.\u001b[0m\u001b[0mPASSIVE_NO_RESULT\u001b[0m\u001b[0;34m\u001b[0m\u001b[0;34m\u001b[0m\u001b[0m\n\u001b[1;32m    758\u001b[0m \u001b[0;34m\u001b[0m\u001b[0m\n\u001b[0;32m--> 759\u001b[0;31m         return self._emit_lazyload(\n\u001b[0m\u001b[1;32m    760\u001b[0m             \u001b[0msession\u001b[0m\u001b[0;34m,\u001b[0m \u001b[0mstate\u001b[0m\u001b[0;34m,\u001b[0m \u001b[0mprimary_key_identity\u001b[0m\u001b[0;34m,\u001b[0m \u001b[0mpassive\u001b[0m\u001b[0;34m\u001b[0m\u001b[0;34m\u001b[0m\u001b[0m\n\u001b[1;32m    761\u001b[0m         )\n",
      "\u001b[0;32m<string>\u001b[0m in \u001b[0;36m<lambda>\u001b[0;34m(self, session, state, primary_key_identity, passive)\u001b[0m\n",
      "\u001b[0;32m/g/data3/hh5/public/apps/miniconda3/envs/analysis3-21.04/lib/python3.8/site-packages/sqlalchemy/orm/strategies.py\u001b[0m in \u001b[0;36m_emit_lazyload\u001b[0;34m(self, strategy_options, session, state, primary_key_identity, passive)\u001b[0m\n\u001b[1;32m    898\u001b[0m \u001b[0;34m\u001b[0m\u001b[0m\n\u001b[1;32m    899\u001b[0m         result = (\n\u001b[0;32m--> 900\u001b[0;31m             \u001b[0mq\u001b[0m\u001b[0;34m(\u001b[0m\u001b[0msession\u001b[0m\u001b[0;34m)\u001b[0m\u001b[0;34m\u001b[0m\u001b[0;34m\u001b[0m\u001b[0m\n\u001b[0m\u001b[1;32m    901\u001b[0m             \u001b[0;34m.\u001b[0m\u001b[0mwith_post_criteria\u001b[0m\u001b[0;34m(\u001b[0m\u001b[0;32mlambda\u001b[0m \u001b[0mq\u001b[0m\u001b[0;34m:\u001b[0m \u001b[0mq\u001b[0m\u001b[0;34m.\u001b[0m\u001b[0m_set_lazyload_from\u001b[0m\u001b[0;34m(\u001b[0m\u001b[0mstate\u001b[0m\u001b[0;34m)\u001b[0m\u001b[0;34m)\u001b[0m\u001b[0;34m\u001b[0m\u001b[0;34m\u001b[0m\u001b[0m\n\u001b[1;32m    902\u001b[0m             \u001b[0;34m.\u001b[0m\u001b[0mwith_post_criteria\u001b[0m\u001b[0;34m(\u001b[0m\u001b[0mset_default_params\u001b[0m\u001b[0;34m)\u001b[0m\u001b[0;34m\u001b[0m\u001b[0;34m\u001b[0m\u001b[0m\n",
      "\u001b[0;32m/g/data3/hh5/public/apps/miniconda3/envs/analysis3-21.04/lib/python3.8/site-packages/sqlalchemy/ext/baked.py\u001b[0m in \u001b[0;36mall\u001b[0;34m(self)\u001b[0m\n\u001b[1;32m    542\u001b[0m \u001b[0;34m\u001b[0m\u001b[0m\n\u001b[1;32m    543\u001b[0m         \"\"\"\n\u001b[0;32m--> 544\u001b[0;31m         \u001b[0;32mreturn\u001b[0m \u001b[0mlist\u001b[0m\u001b[0;34m(\u001b[0m\u001b[0mself\u001b[0m\u001b[0;34m)\u001b[0m\u001b[0;34m\u001b[0m\u001b[0;34m\u001b[0m\u001b[0m\n\u001b[0m\u001b[1;32m    545\u001b[0m \u001b[0;34m\u001b[0m\u001b[0m\n\u001b[1;32m    546\u001b[0m     \u001b[0;32mdef\u001b[0m \u001b[0mget\u001b[0m\u001b[0;34m(\u001b[0m\u001b[0mself\u001b[0m\u001b[0;34m,\u001b[0m \u001b[0mident\u001b[0m\u001b[0;34m)\u001b[0m\u001b[0;34m:\u001b[0m\u001b[0;34m\u001b[0m\u001b[0;34m\u001b[0m\u001b[0m\n",
      "\u001b[0;32m/g/data3/hh5/public/apps/miniconda3/envs/analysis3-21.04/lib/python3.8/site-packages/sqlalchemy/ext/baked.py\u001b[0m in \u001b[0;36m__iter__\u001b[0;34m(self)\u001b[0m\n\u001b[1;32m    442\u001b[0m             \u001b[0mq\u001b[0m \u001b[0;34m=\u001b[0m \u001b[0mfn\u001b[0m\u001b[0;34m(\u001b[0m\u001b[0mq\u001b[0m\u001b[0;34m)\u001b[0m\u001b[0;34m\u001b[0m\u001b[0;34m\u001b[0m\u001b[0m\n\u001b[1;32m    443\u001b[0m \u001b[0;34m\u001b[0m\u001b[0m\n\u001b[0;32m--> 444\u001b[0;31m         \u001b[0;32mreturn\u001b[0m \u001b[0mq\u001b[0m\u001b[0;34m.\u001b[0m\u001b[0m_execute_and_instances\u001b[0m\u001b[0;34m(\u001b[0m\u001b[0mcontext\u001b[0m\u001b[0;34m)\u001b[0m\u001b[0;34m\u001b[0m\u001b[0;34m\u001b[0m\u001b[0m\n\u001b[0m\u001b[1;32m    445\u001b[0m \u001b[0;34m\u001b[0m\u001b[0m\n\u001b[1;32m    446\u001b[0m     \u001b[0;32mdef\u001b[0m \u001b[0mcount\u001b[0m\u001b[0;34m(\u001b[0m\u001b[0mself\u001b[0m\u001b[0;34m)\u001b[0m\u001b[0;34m:\u001b[0m\u001b[0;34m\u001b[0m\u001b[0;34m\u001b[0m\u001b[0m\n",
      "\u001b[0;32m/g/data3/hh5/public/apps/miniconda3/envs/analysis3-21.04/lib/python3.8/site-packages/sqlalchemy/orm/query.py\u001b[0m in \u001b[0;36m_execute_and_instances\u001b[0;34m(self, querycontext)\u001b[0m\n\u001b[1;32m   3558\u001b[0m         )\n\u001b[1;32m   3559\u001b[0m \u001b[0;34m\u001b[0m\u001b[0m\n\u001b[0;32m-> 3560\u001b[0;31m         \u001b[0mresult\u001b[0m \u001b[0;34m=\u001b[0m \u001b[0mconn\u001b[0m\u001b[0;34m.\u001b[0m\u001b[0mexecute\u001b[0m\u001b[0;34m(\u001b[0m\u001b[0mquerycontext\u001b[0m\u001b[0;34m.\u001b[0m\u001b[0mstatement\u001b[0m\u001b[0;34m,\u001b[0m \u001b[0mself\u001b[0m\u001b[0;34m.\u001b[0m\u001b[0m_params\u001b[0m\u001b[0;34m)\u001b[0m\u001b[0;34m\u001b[0m\u001b[0;34m\u001b[0m\u001b[0m\n\u001b[0m\u001b[1;32m   3561\u001b[0m         \u001b[0;32mreturn\u001b[0m \u001b[0mloading\u001b[0m\u001b[0;34m.\u001b[0m\u001b[0minstances\u001b[0m\u001b[0;34m(\u001b[0m\u001b[0mquerycontext\u001b[0m\u001b[0;34m.\u001b[0m\u001b[0mquery\u001b[0m\u001b[0;34m,\u001b[0m \u001b[0mresult\u001b[0m\u001b[0;34m,\u001b[0m \u001b[0mquerycontext\u001b[0m\u001b[0;34m)\u001b[0m\u001b[0;34m\u001b[0m\u001b[0;34m\u001b[0m\u001b[0m\n\u001b[1;32m   3562\u001b[0m \u001b[0;34m\u001b[0m\u001b[0m\n",
      "\u001b[0;32m/g/data3/hh5/public/apps/miniconda3/envs/analysis3-21.04/lib/python3.8/site-packages/sqlalchemy/engine/base.py\u001b[0m in \u001b[0;36mexecute\u001b[0;34m(self, object_, *multiparams, **params)\u001b[0m\n\u001b[1;32m   1009\u001b[0m             )\n\u001b[1;32m   1010\u001b[0m         \u001b[0;32melse\u001b[0m\u001b[0;34m:\u001b[0m\u001b[0;34m\u001b[0m\u001b[0;34m\u001b[0m\u001b[0m\n\u001b[0;32m-> 1011\u001b[0;31m             \u001b[0;32mreturn\u001b[0m \u001b[0mmeth\u001b[0m\u001b[0;34m(\u001b[0m\u001b[0mself\u001b[0m\u001b[0;34m,\u001b[0m \u001b[0mmultiparams\u001b[0m\u001b[0;34m,\u001b[0m \u001b[0mparams\u001b[0m\u001b[0;34m)\u001b[0m\u001b[0;34m\u001b[0m\u001b[0;34m\u001b[0m\u001b[0m\n\u001b[0m\u001b[1;32m   1012\u001b[0m \u001b[0;34m\u001b[0m\u001b[0m\n\u001b[1;32m   1013\u001b[0m     \u001b[0;32mdef\u001b[0m \u001b[0m_execute_function\u001b[0m\u001b[0;34m(\u001b[0m\u001b[0mself\u001b[0m\u001b[0;34m,\u001b[0m \u001b[0mfunc\u001b[0m\u001b[0;34m,\u001b[0m \u001b[0mmultiparams\u001b[0m\u001b[0;34m,\u001b[0m \u001b[0mparams\u001b[0m\u001b[0;34m)\u001b[0m\u001b[0;34m:\u001b[0m\u001b[0;34m\u001b[0m\u001b[0;34m\u001b[0m\u001b[0m\n",
      "\u001b[0;32m/g/data3/hh5/public/apps/miniconda3/envs/analysis3-21.04/lib/python3.8/site-packages/sqlalchemy/sql/elements.py\u001b[0m in \u001b[0;36m_execute_on_connection\u001b[0;34m(self, connection, multiparams, params)\u001b[0m\n\u001b[1;32m    296\u001b[0m     \u001b[0;32mdef\u001b[0m \u001b[0m_execute_on_connection\u001b[0m\u001b[0;34m(\u001b[0m\u001b[0mself\u001b[0m\u001b[0;34m,\u001b[0m \u001b[0mconnection\u001b[0m\u001b[0;34m,\u001b[0m \u001b[0mmultiparams\u001b[0m\u001b[0;34m,\u001b[0m \u001b[0mparams\u001b[0m\u001b[0;34m)\u001b[0m\u001b[0;34m:\u001b[0m\u001b[0;34m\u001b[0m\u001b[0;34m\u001b[0m\u001b[0m\n\u001b[1;32m    297\u001b[0m         \u001b[0;32mif\u001b[0m \u001b[0mself\u001b[0m\u001b[0;34m.\u001b[0m\u001b[0msupports_execution\u001b[0m\u001b[0;34m:\u001b[0m\u001b[0;34m\u001b[0m\u001b[0;34m\u001b[0m\u001b[0m\n\u001b[0;32m--> 298\u001b[0;31m             \u001b[0;32mreturn\u001b[0m \u001b[0mconnection\u001b[0m\u001b[0;34m.\u001b[0m\u001b[0m_execute_clauseelement\u001b[0m\u001b[0;34m(\u001b[0m\u001b[0mself\u001b[0m\u001b[0;34m,\u001b[0m \u001b[0mmultiparams\u001b[0m\u001b[0;34m,\u001b[0m \u001b[0mparams\u001b[0m\u001b[0;34m)\u001b[0m\u001b[0;34m\u001b[0m\u001b[0;34m\u001b[0m\u001b[0m\n\u001b[0m\u001b[1;32m    299\u001b[0m         \u001b[0;32melse\u001b[0m\u001b[0;34m:\u001b[0m\u001b[0;34m\u001b[0m\u001b[0;34m\u001b[0m\u001b[0m\n\u001b[1;32m    300\u001b[0m             \u001b[0;32mraise\u001b[0m \u001b[0mexc\u001b[0m\u001b[0;34m.\u001b[0m\u001b[0mObjectNotExecutableError\u001b[0m\u001b[0;34m(\u001b[0m\u001b[0mself\u001b[0m\u001b[0;34m)\u001b[0m\u001b[0;34m\u001b[0m\u001b[0;34m\u001b[0m\u001b[0m\n",
      "\u001b[0;32m/g/data3/hh5/public/apps/miniconda3/envs/analysis3-21.04/lib/python3.8/site-packages/sqlalchemy/engine/base.py\u001b[0m in \u001b[0;36m_execute_clauseelement\u001b[0;34m(self, elem, multiparams, params)\u001b[0m\n\u001b[1;32m   1122\u001b[0m             )\n\u001b[1;32m   1123\u001b[0m \u001b[0;34m\u001b[0m\u001b[0m\n\u001b[0;32m-> 1124\u001b[0;31m         ret = self._execute_context(\n\u001b[0m\u001b[1;32m   1125\u001b[0m             \u001b[0mdialect\u001b[0m\u001b[0;34m,\u001b[0m\u001b[0;34m\u001b[0m\u001b[0;34m\u001b[0m\u001b[0m\n\u001b[1;32m   1126\u001b[0m             \u001b[0mdialect\u001b[0m\u001b[0;34m.\u001b[0m\u001b[0mexecution_ctx_cls\u001b[0m\u001b[0;34m.\u001b[0m\u001b[0m_init_compiled\u001b[0m\u001b[0;34m,\u001b[0m\u001b[0;34m\u001b[0m\u001b[0;34m\u001b[0m\u001b[0m\n",
      "\u001b[0;32m/g/data3/hh5/public/apps/miniconda3/envs/analysis3-21.04/lib/python3.8/site-packages/sqlalchemy/engine/base.py\u001b[0m in \u001b[0;36m_execute_context\u001b[0;34m(self, dialect, constructor, statement, parameters, *args)\u001b[0m\n\u001b[1;32m   1314\u001b[0m \u001b[0;34m\u001b[0m\u001b[0m\n\u001b[1;32m   1315\u001b[0m         \u001b[0;32mexcept\u001b[0m \u001b[0mBaseException\u001b[0m \u001b[0;32mas\u001b[0m \u001b[0me\u001b[0m\u001b[0;34m:\u001b[0m\u001b[0;34m\u001b[0m\u001b[0;34m\u001b[0m\u001b[0m\n\u001b[0;32m-> 1316\u001b[0;31m             self._handle_dbapi_exception(\n\u001b[0m\u001b[1;32m   1317\u001b[0m                 \u001b[0me\u001b[0m\u001b[0;34m,\u001b[0m \u001b[0mstatement\u001b[0m\u001b[0;34m,\u001b[0m \u001b[0mparameters\u001b[0m\u001b[0;34m,\u001b[0m \u001b[0mcursor\u001b[0m\u001b[0;34m,\u001b[0m \u001b[0mcontext\u001b[0m\u001b[0;34m\u001b[0m\u001b[0;34m\u001b[0m\u001b[0m\n\u001b[1;32m   1318\u001b[0m             )\n",
      "\u001b[0;32m/g/data3/hh5/public/apps/miniconda3/envs/analysis3-21.04/lib/python3.8/site-packages/sqlalchemy/engine/base.py\u001b[0m in \u001b[0;36m_handle_dbapi_exception\u001b[0;34m(self, e, statement, parameters, cursor, context)\u001b[0m\n\u001b[1;32m   1508\u001b[0m                 \u001b[0mutil\u001b[0m\u001b[0;34m.\u001b[0m\u001b[0mraise_\u001b[0m\u001b[0;34m(\u001b[0m\u001b[0mnewraise\u001b[0m\u001b[0;34m,\u001b[0m \u001b[0mwith_traceback\u001b[0m\u001b[0;34m=\u001b[0m\u001b[0mexc_info\u001b[0m\u001b[0;34m[\u001b[0m\u001b[0;36m2\u001b[0m\u001b[0;34m]\u001b[0m\u001b[0;34m,\u001b[0m \u001b[0mfrom_\u001b[0m\u001b[0;34m=\u001b[0m\u001b[0me\u001b[0m\u001b[0;34m)\u001b[0m\u001b[0;34m\u001b[0m\u001b[0;34m\u001b[0m\u001b[0m\n\u001b[1;32m   1509\u001b[0m             \u001b[0;32melif\u001b[0m \u001b[0mshould_wrap\u001b[0m\u001b[0;34m:\u001b[0m\u001b[0;34m\u001b[0m\u001b[0;34m\u001b[0m\u001b[0m\n\u001b[0;32m-> 1510\u001b[0;31m                 util.raise_(\n\u001b[0m\u001b[1;32m   1511\u001b[0m                     \u001b[0msqlalchemy_exception\u001b[0m\u001b[0;34m,\u001b[0m \u001b[0mwith_traceback\u001b[0m\u001b[0;34m=\u001b[0m\u001b[0mexc_info\u001b[0m\u001b[0;34m[\u001b[0m\u001b[0;36m2\u001b[0m\u001b[0;34m]\u001b[0m\u001b[0;34m,\u001b[0m \u001b[0mfrom_\u001b[0m\u001b[0;34m=\u001b[0m\u001b[0me\u001b[0m\u001b[0;34m\u001b[0m\u001b[0;34m\u001b[0m\u001b[0m\n\u001b[1;32m   1512\u001b[0m                 )\n",
      "\u001b[0;32m/g/data3/hh5/public/apps/miniconda3/envs/analysis3-21.04/lib/python3.8/site-packages/sqlalchemy/util/compat.py\u001b[0m in \u001b[0;36mraise_\u001b[0;34m(***failed resolving arguments***)\u001b[0m\n\u001b[1;32m    180\u001b[0m \u001b[0;34m\u001b[0m\u001b[0m\n\u001b[1;32m    181\u001b[0m         \u001b[0;32mtry\u001b[0m\u001b[0;34m:\u001b[0m\u001b[0;34m\u001b[0m\u001b[0;34m\u001b[0m\u001b[0m\n\u001b[0;32m--> 182\u001b[0;31m             \u001b[0;32mraise\u001b[0m \u001b[0mexception\u001b[0m\u001b[0;34m\u001b[0m\u001b[0;34m\u001b[0m\u001b[0m\n\u001b[0m\u001b[1;32m    183\u001b[0m         \u001b[0;32mfinally\u001b[0m\u001b[0;34m:\u001b[0m\u001b[0;34m\u001b[0m\u001b[0;34m\u001b[0m\u001b[0m\n\u001b[1;32m    184\u001b[0m             \u001b[0;31m# credit to\u001b[0m\u001b[0;34m\u001b[0m\u001b[0;34m\u001b[0m\u001b[0;34m\u001b[0m\u001b[0m\n",
      "\u001b[0;32m/g/data3/hh5/public/apps/miniconda3/envs/analysis3-21.04/lib/python3.8/site-packages/sqlalchemy/engine/base.py\u001b[0m in \u001b[0;36m_execute_context\u001b[0;34m(self, dialect, constructor, statement, parameters, *args)\u001b[0m\n\u001b[1;32m   1274\u001b[0m                             \u001b[0;32mbreak\u001b[0m\u001b[0;34m\u001b[0m\u001b[0;34m\u001b[0m\u001b[0m\n\u001b[1;32m   1275\u001b[0m                 \u001b[0;32mif\u001b[0m \u001b[0;32mnot\u001b[0m \u001b[0mevt_handled\u001b[0m\u001b[0;34m:\u001b[0m\u001b[0;34m\u001b[0m\u001b[0;34m\u001b[0m\u001b[0m\n\u001b[0;32m-> 1276\u001b[0;31m                     self.dialect.do_execute(\n\u001b[0m\u001b[1;32m   1277\u001b[0m                         \u001b[0mcursor\u001b[0m\u001b[0;34m,\u001b[0m \u001b[0mstatement\u001b[0m\u001b[0;34m,\u001b[0m \u001b[0mparameters\u001b[0m\u001b[0;34m,\u001b[0m \u001b[0mcontext\u001b[0m\u001b[0;34m\u001b[0m\u001b[0;34m\u001b[0m\u001b[0m\n\u001b[1;32m   1278\u001b[0m                     )\n",
      "\u001b[0;32m/g/data3/hh5/public/apps/miniconda3/envs/analysis3-21.04/lib/python3.8/site-packages/sqlalchemy/engine/default.py\u001b[0m in \u001b[0;36mdo_execute\u001b[0;34m(self, cursor, statement, parameters, context)\u001b[0m\n\u001b[1;32m    606\u001b[0m \u001b[0;34m\u001b[0m\u001b[0m\n\u001b[1;32m    607\u001b[0m     \u001b[0;32mdef\u001b[0m \u001b[0mdo_execute\u001b[0m\u001b[0;34m(\u001b[0m\u001b[0mself\u001b[0m\u001b[0;34m,\u001b[0m \u001b[0mcursor\u001b[0m\u001b[0;34m,\u001b[0m \u001b[0mstatement\u001b[0m\u001b[0;34m,\u001b[0m \u001b[0mparameters\u001b[0m\u001b[0;34m,\u001b[0m \u001b[0mcontext\u001b[0m\u001b[0;34m=\u001b[0m\u001b[0;32mNone\u001b[0m\u001b[0;34m)\u001b[0m\u001b[0;34m:\u001b[0m\u001b[0;34m\u001b[0m\u001b[0;34m\u001b[0m\u001b[0m\n\u001b[0;32m--> 608\u001b[0;31m         \u001b[0mcursor\u001b[0m\u001b[0;34m.\u001b[0m\u001b[0mexecute\u001b[0m\u001b[0;34m(\u001b[0m\u001b[0mstatement\u001b[0m\u001b[0;34m,\u001b[0m \u001b[0mparameters\u001b[0m\u001b[0;34m)\u001b[0m\u001b[0;34m\u001b[0m\u001b[0;34m\u001b[0m\u001b[0m\n\u001b[0m\u001b[1;32m    609\u001b[0m \u001b[0;34m\u001b[0m\u001b[0m\n\u001b[1;32m    610\u001b[0m     \u001b[0;32mdef\u001b[0m \u001b[0mdo_execute_no_params\u001b[0m\u001b[0;34m(\u001b[0m\u001b[0mself\u001b[0m\u001b[0;34m,\u001b[0m \u001b[0mcursor\u001b[0m\u001b[0;34m,\u001b[0m \u001b[0mstatement\u001b[0m\u001b[0;34m,\u001b[0m \u001b[0mcontext\u001b[0m\u001b[0;34m=\u001b[0m\u001b[0;32mNone\u001b[0m\u001b[0;34m)\u001b[0m\u001b[0;34m:\u001b[0m\u001b[0;34m\u001b[0m\u001b[0;34m\u001b[0m\u001b[0m\n",
      "\u001b[0;31mOperationalError\u001b[0m: (sqlite3.OperationalError) no such column: ncattributes.name_id\n[SQL: SELECT ncattributes.id AS ncattributes_id, ncattributes.ncvar_id AS ncattributes_ncvar_id, ncattributes.ncfile_id AS ncattributes_ncfile_id, ncattributes.name_id AS ncattributes_name_id, ncattributes.value_id AS ncattributes_value_id \nFROM ncattributes \nWHERE ? = ncattributes.ncvar_id]\n[parameters: (787104,)]\n(Background on this error at: http://sqlalche.me/e/13/e3q8)"
     ]
    },
    {
     "name": "stderr",
     "output_type": "stream",
     "text": [
      "Exception during reset or similar\n",
      "Traceback (most recent call last):\n",
      "  File \"/g/data3/hh5/public/apps/miniconda3/envs/analysis3-21.04/lib/python3.8/site-packages/psutil/_common.py\", line 447, in wrapper\n",
      "    ret = self._cache[fun]\n",
      "AttributeError: 'Process' object has no attribute '_cache'\n",
      "\n",
      "During handling of the above exception, another exception occurred:\n",
      "\n",
      "Traceback (most recent call last):\n",
      "  File \"/g/data3/hh5/public/apps/miniconda3/envs/analysis3-21.04/lib/python3.8/site-packages/sqlalchemy/pool/base.py\", line 697, in _finalize_fairy\n",
      "    fairy._reset(pool)\n",
      "  File \"/g/data3/hh5/public/apps/miniconda3/envs/analysis3-21.04/lib/python3.8/site-packages/sqlalchemy/pool/base.py\", line 893, in _reset\n",
      "    pool._dialect.do_rollback(self)\n",
      "  File \"/g/data3/hh5/public/apps/miniconda3/envs/analysis3-21.04/lib/python3.8/site-packages/sqlalchemy/engine/default.py\", line 558, in do_rollback\n",
      "    dbapi_connection.rollback()\n",
      "sqlite3.ProgrammingError: SQLite objects created in a thread can only be used in that same thread. The object was created in thread id 140243347597120 and this is thread id 140241196050176.\n",
      "Exception closing connection <sqlite3.Connection object at 0x7f8c71e7bd50>\n",
      "Traceback (most recent call last):\n",
      "  File \"/g/data3/hh5/public/apps/miniconda3/envs/analysis3-21.04/lib/python3.8/site-packages/psutil/_common.py\", line 447, in wrapper\n",
      "    ret = self._cache[fun]\n",
      "AttributeError: 'Process' object has no attribute '_cache'\n",
      "\n",
      "During handling of the above exception, another exception occurred:\n",
      "\n",
      "Traceback (most recent call last):\n",
      "  File \"/g/data3/hh5/public/apps/miniconda3/envs/analysis3-21.04/lib/python3.8/site-packages/sqlalchemy/pool/base.py\", line 697, in _finalize_fairy\n",
      "    fairy._reset(pool)\n",
      "  File \"/g/data3/hh5/public/apps/miniconda3/envs/analysis3-21.04/lib/python3.8/site-packages/sqlalchemy/pool/base.py\", line 893, in _reset\n",
      "    pool._dialect.do_rollback(self)\n",
      "  File \"/g/data3/hh5/public/apps/miniconda3/envs/analysis3-21.04/lib/python3.8/site-packages/sqlalchemy/engine/default.py\", line 558, in do_rollback\n",
      "    dbapi_connection.rollback()\n",
      "sqlite3.ProgrammingError: SQLite objects created in a thread can only be used in that same thread. The object was created in thread id 140243347597120 and this is thread id 140241196050176.\n",
      "\n",
      "During handling of the above exception, another exception occurred:\n",
      "\n",
      "Traceback (most recent call last):\n",
      "  File \"/g/data3/hh5/public/apps/miniconda3/envs/analysis3-21.04/lib/python3.8/site-packages/sqlalchemy/pool/base.py\", line 270, in _close_connection\n",
      "    self._dialect.do_close(connection)\n",
      "  File \"/g/data3/hh5/public/apps/miniconda3/envs/analysis3-21.04/lib/python3.8/site-packages/sqlalchemy/engine/default.py\", line 564, in do_close\n",
      "    dbapi_connection.close()\n",
      "sqlite3.ProgrammingError: SQLite objects created in a thread can only be used in that same thread. The object was created in thread id 140243347597120 and this is thread id 140241196050176.\n",
      "Exception during reset or similar\n",
      "Traceback (most recent call last):\n",
      "  File \"/g/data3/hh5/public/apps/miniconda3/envs/analysis3-21.04/lib/python3.8/site-packages/psutil/_common.py\", line 447, in wrapper\n",
      "    ret = self._cache[fun]\n",
      "AttributeError: 'Process' object has no attribute '_cache'\n",
      "\n",
      "During handling of the above exception, another exception occurred:\n",
      "\n",
      "Traceback (most recent call last):\n",
      "  File \"/g/data3/hh5/public/apps/miniconda3/envs/analysis3-21.04/lib/python3.8/site-packages/sqlalchemy/pool/base.py\", line 697, in _finalize_fairy\n",
      "    fairy._reset(pool)\n",
      "  File \"/g/data3/hh5/public/apps/miniconda3/envs/analysis3-21.04/lib/python3.8/site-packages/sqlalchemy/pool/base.py\", line 893, in _reset\n",
      "    pool._dialect.do_rollback(self)\n",
      "  File \"/g/data3/hh5/public/apps/miniconda3/envs/analysis3-21.04/lib/python3.8/site-packages/sqlalchemy/engine/default.py\", line 558, in do_rollback\n",
      "    dbapi_connection.rollback()\n",
      "sqlite3.ProgrammingError: SQLite objects created in a thread can only be used in that same thread. The object was created in thread id 140243347597120 and this is thread id 140241196050176.\n",
      "Exception closing connection <sqlite3.Connection object at 0x7f8c605374e0>\n",
      "Traceback (most recent call last):\n",
      "  File \"/g/data3/hh5/public/apps/miniconda3/envs/analysis3-21.04/lib/python3.8/site-packages/psutil/_common.py\", line 447, in wrapper\n",
      "    ret = self._cache[fun]\n",
      "AttributeError: 'Process' object has no attribute '_cache'\n",
      "\n",
      "During handling of the above exception, another exception occurred:\n",
      "\n",
      "Traceback (most recent call last):\n",
      "  File \"/g/data3/hh5/public/apps/miniconda3/envs/analysis3-21.04/lib/python3.8/site-packages/sqlalchemy/pool/base.py\", line 697, in _finalize_fairy\n",
      "    fairy._reset(pool)\n",
      "  File \"/g/data3/hh5/public/apps/miniconda3/envs/analysis3-21.04/lib/python3.8/site-packages/sqlalchemy/pool/base.py\", line 893, in _reset\n",
      "    pool._dialect.do_rollback(self)\n",
      "  File \"/g/data3/hh5/public/apps/miniconda3/envs/analysis3-21.04/lib/python3.8/site-packages/sqlalchemy/engine/default.py\", line 558, in do_rollback\n",
      "    dbapi_connection.rollback()\n",
      "sqlite3.ProgrammingError: SQLite objects created in a thread can only be used in that same thread. The object was created in thread id 140243347597120 and this is thread id 140241196050176.\n",
      "\n",
      "During handling of the above exception, another exception occurred:\n",
      "\n",
      "Traceback (most recent call last):\n",
      "  File \"/g/data3/hh5/public/apps/miniconda3/envs/analysis3-21.04/lib/python3.8/site-packages/sqlalchemy/pool/base.py\", line 270, in _close_connection\n",
      "    self._dialect.do_close(connection)\n",
      "  File \"/g/data3/hh5/public/apps/miniconda3/envs/analysis3-21.04/lib/python3.8/site-packages/sqlalchemy/engine/default.py\", line 564, in do_close\n",
      "    dbapi_connection.close()\n",
      "sqlite3.ProgrammingError: SQLite objects created in a thread can only be used in that same thread. The object was created in thread id 140243347597120 and this is thread id 140241196050176.\n"
     ]
    }
   ],
   "source": [
    "# Latitude range (pan-Antarctic)\n",
    "lat_min = -90\n",
    "lat_max = -60\n",
    "\n",
    "# Import variables from experiments, convert temperature to degree Celsius\n",
    "salt = cc.querying.getvar(expt='01deg_jra55v13_ryf9091', variable='salt', \n",
    "                          session=session, frequency='1 monthly',\n",
    "                          start_time='1999-12-31 00:00:00', \n",
    "                          end_time='2039-12-31 00:00:00')\n",
    "ht = cc.querying.getvar(expt='01deg_jra55v13_ryf9091', variable='ht', \n",
    "                          session=session, frequency='static', n=1)\n",
    "\n",
    "# Select latitude range:\n",
    "salt = salt.sel(yt_ocean = slice(lat_min, lat_max))\n",
    "ht = ht.sel(yt_ocean = slice(lat_min, lat_max))\n",
    "\n",
    "# annual_average \n",
    "salt = salt.groupby('time.year').mean(dim='time')\n",
    "\n",
    "# Select surface ocean:\n",
    "salt_surface = salt.sel(st_ocean=0, method='nearest')\n",
    "# Select slice at 250 m depth:\n",
    "salt_250m = salt.sel(st_ocean=250, method='nearest')\n",
    "# Weighted average salt with all depths\n",
    "weights_st = salt.st_ocean\n",
    "salt_st = salt.weighted(weights_st).mean('st_ocean')"
   ]
  },
  {
   "cell_type": "markdown",
   "id": "2eeb848f",
   "metadata": {},
   "source": [
    "Now, make a `land_mask`. This is just a dataarray with `1`'s where you have ocean and `0`'s where you have land. We are going to work with this mask to delineate the different ocean basins."
   ]
  },
  {
   "cell_type": "code",
   "execution_count": null,
   "id": "4db231e0",
   "metadata": {},
   "outputs": [],
   "source": [
    "land_mask = ~ht.isnull()\n",
    "shelf_mask = (land_mask.where(ht < 1000))\n",
    "\n",
    "fig=plt.figure(2,(12,6))\n",
    "ax = plt.subplot()\n",
    "shelf_mask.plot()\n",
    "plt.xlabel('Longitude (degrees E)', fontsize=12)\n",
    "plt.ylabel('Latitude (degrees N)', fontsize=12)\n",
    "\n",
    "#Put salt into the shelf mask\n",
    "salt_shelf = salt*shelf_mask\n",
    "salt_st_shelf = salt_st*shelf_mask\n",
    "salt_surface_shelf = salt_surface*shelf_mask\n",
    "salt_250m_shelf = salt_250m*shelf_mask\n",
    "\n",
    "#Weighted average salt with lon-lat\n",
    "weights = np.cos(np.deg2rad(salt.yt_ocean))\n",
    "\n",
    "salt_st_shelf_weighted = salt_st_shelf.weighted(weights)\n",
    "salt_surface_shelf_weighted = salt_surface_shelf.weighted(weights)\n",
    "salt_250m_shelf_weighted = salt_250m_shelf.weighted(weights)\n",
    "\n",
    "#Weddell\n",
    "bottomleft_lon=-65\n",
    "bottomleft_lat=-77.75\n",
    "topright_lon=-20\n",
    "topright_lat=-72\n",
    "\n",
    "ax.plot([bottomleft_lon,topright_lon], [bottomleft_lat,bottomleft_lat], 'r', linewidth = 3)\n",
    "ax.plot([bottomleft_lon,topright_lon], [topright_lat,topright_lat], 'r', linewidth = 3)\n",
    "ax.plot([bottomleft_lon,bottomleft_lon], [bottomleft_lat,topright_lat], 'r', linewidth = 3)\n",
    "ax.plot([topright_lon,topright_lon], [bottomleft_lat,topright_lat], 'r', linewidth = 3)\n",
    "\n",
    "salt_shelf_Weddell = salt_shelf.sel(xt_ocean=slice(bottomleft_lon,topright_lon),yt_ocean=slice(bottomleft_lat,topright_lat))\n",
    "#weighted averages\n",
    "salt_st_shelf_Weddell_weighted = salt_shelf_Weddell.weighted(weights_st).mean('st_ocean')\n",
    "salt_st_shelf_Weddell = salt_st_shelf_Weddell_weighted.weighted(weights)\n",
    "salt_surface_shelf_Weddell = salt_shelf_Weddell.sel(st_ocean=0, method='nearest').weighted(weights)\n",
    "salt_250m_shelf_Weddell = salt_shelf_Weddell.sel(st_ocean=250, method='nearest').weighted(weights)\n",
    "\n",
    "#Ross\n",
    "bottomleft_lon=-200\n",
    "bottomleft_lat=-77.75\n",
    "topright_lon=-150\n",
    "topright_lat=-72\n",
    "\n",
    "ax.plot([bottomleft_lon,topright_lon], [bottomleft_lat,bottomleft_lat], 'r', linewidth = 3)\n",
    "ax.plot([bottomleft_lon,topright_lon], [topright_lat,topright_lat], 'r', linewidth = 3)\n",
    "ax.plot([bottomleft_lon,bottomleft_lon], [bottomleft_lat,topright_lat], 'r', linewidth = 3)\n",
    "ax.plot([topright_lon,topright_lon], [bottomleft_lat,topright_lat], 'r', linewidth = 3)\n",
    "\n",
    "salt_shelf_Ross = salt_shelf.sel(xt_ocean=slice(bottomleft_lon,topright_lon),yt_ocean=slice(bottomleft_lat,topright_lat))\n",
    "#weighted averages\n",
    "salt_st_shelf_Ross_weighted = salt_shelf_Ross.weighted(weights_st).mean('st_ocean')\n",
    "salt_st_shelf_Ross = salt_st_shelf_Ross_weighted.weighted(weights)\n",
    "salt_surface_shelf_Ross = salt_shelf_Ross.sel(st_ocean=0, method='nearest').weighted(weights)\n",
    "salt_250m_shelf_Ross = salt_shelf_Ross.sel(st_ocean=250, method='nearest').weighted(weights)\n",
    "\n",
    "#CapeD\n",
    "bottomleft_lon=55\n",
    "bottomleft_lat=-70\n",
    "topright_lon=80\n",
    "topright_lat=-65\n",
    "\n",
    "ax.plot([bottomleft_lon,topright_lon], [bottomleft_lat,bottomleft_lat], 'r', linewidth = 3)\n",
    "ax.plot([bottomleft_lon,topright_lon], [topright_lat,topright_lat], 'r', linewidth = 3)\n",
    "ax.plot([bottomleft_lon,bottomleft_lon], [bottomleft_lat,topright_lat], 'r', linewidth = 3)\n",
    "ax.plot([topright_lon,topright_lon], [bottomleft_lat,topright_lat], 'r', linewidth = 3)\n",
    "\n",
    "salt_shelf_CapeD = salt_shelf.sel(xt_ocean=slice(bottomleft_lon,topright_lon),yt_ocean=slice(bottomleft_lat,topright_lat))\n",
    "#weighted averages\n",
    "salt_st_shelf_CapeD_weighted = salt_shelf_CapeD.weighted(weights_st).mean('st_ocean')\n",
    "salt_st_shelf_CapeD = salt_st_shelf_CapeD_weighted.weighted(weights)\n",
    "salt_surface_shelf_CapeD = salt_shelf_CapeD.sel(st_ocean=0, method='nearest').weighted(weights)\n",
    "salt_250m_shelf_CapeD = salt_shelf_CapeD.sel(st_ocean=250, method='nearest').weighted(weights)\n",
    "\n",
    "#Mertz\n",
    "bottomleft_lon=-225\n",
    "bottomleft_lat=-69\n",
    "topright_lon=-200\n",
    "topright_lat=-65\n",
    "\n",
    "ax.plot([bottomleft_lon,topright_lon], [bottomleft_lat,bottomleft_lat], 'r', linewidth = 3)\n",
    "ax.plot([bottomleft_lon,topright_lon], [topright_lat,topright_lat], 'r', linewidth = 3)\n",
    "ax.plot([bottomleft_lon,bottomleft_lon], [bottomleft_lat,topright_lat], 'r', linewidth = 3)\n",
    "ax.plot([topright_lon,topright_lon], [bottomleft_lat,topright_lat], 'r', linewidth = 3)\n",
    "\n",
    "salt_shelf_Mertz = salt_shelf.sel(xt_ocean=slice(bottomleft_lon,topright_lon),yt_ocean=slice(bottomleft_lat,topright_lat))\n",
    "#weighted averages\n",
    "salt_st_shelf_Mertz_weighted = salt_shelf_Mertz.weighted(weights_st).mean('st_ocean')\n",
    "salt_st_shelf_Mertz = salt_st_shelf_Mertz_weighted.weighted(weights)\n",
    "salt_surface_shelf_Mertz = salt_shelf_Mertz.sel(st_ocean=0, method='nearest').weighted(weights)\n",
    "salt_250m_shelf_Mertz = salt_shelf_Mertz.sel(st_ocean=250, method='nearest').weighted(weights)"
   ]
  },
  {
   "cell_type": "code",
   "execution_count": null,
   "id": "fdc57e48",
   "metadata": {},
   "outputs": [],
   "source": [
    "fig = plt.figure(figsize=(15, 15))\n",
    "\n",
    "#Plotting mean shelf salinity at surface, 250m and averaging over all depths\n",
    "plt.subplot(4,1,1)\n",
    "plt.title('Averaging shelf salinity averaging over all depths of polynyas region', fontsize=16, loc='left')\n",
    "salt_st_shelf_Weddell.mean((\"xt_ocean\", \"yt_ocean\")).plot(label='Weddell')\n",
    "salt_st_shelf_Ross.mean((\"xt_ocean\", \"yt_ocean\")).plot(label='Ross')\n",
    "salt_st_shelf_CapeD.mean((\"xt_ocean\", \"yt_ocean\")).plot(label='CapeD')\n",
    "salt_st_shelf_Mertz.mean((\"xt_ocean\", \"yt_ocean\")).plot(label='Mertz')\n",
    "plt.xlabel('Time (yrs)', fontsize=12, loc='right')\n",
    "plt.ylabel('Practical Salinity (psu)', fontsize=12)\n",
    "plt.legend(loc='upper right', frameon=False, fontsize=10)\n",
    "#plt.legend(fancybox=True, framealpha=1, shadow=True, borderpad=1)\n",
    "#plt.legend(frameon=False, loc='upper center', ncol=4)\n",
    "\n",
    "plt.subplot(4,1,2)\n",
    "plt.title('Averaging shelf salinity at surface of polynyas region', fontsize=16, loc='left')\n",
    "salt_surface_shelf_Weddell.mean((\"xt_ocean\", \"yt_ocean\")).plot(label='Weddell')\n",
    "salt_surface_shelf_Ross.mean((\"xt_ocean\", \"yt_ocean\")).plot(label='Ross')\n",
    "salt_surface_shelf_CapeD.mean((\"xt_ocean\", \"yt_ocean\")).plot(label='CapeD')\n",
    "salt_surface_shelf_Mertz.mean((\"xt_ocean\", \"yt_ocean\")).plot(label='Mertz')\n",
    "plt.xlabel('Time (yrs)', fontsize=12, loc='right')\n",
    "plt.ylabel('Practical Salinity (psu)', fontsize=12)\n",
    "plt.legend(loc='upper right', frameon=False, fontsize=10)\n",
    "#plt.legend(fancybox=True, framealpha=1, shadow=True, borderpad=1)\n",
    "#plt.legend(frameon=False, loc='upper center', ncol=4)\n",
    "\n",
    "plt.subplot(4,1,3)\n",
    "plt.title('Averaging shelf salinity at 250m depths of polynyas region', fontsize=16, loc='left')\n",
    "salt_250m_shelf_Weddell.mean((\"xt_ocean\",\"yt_ocean\")).plot(label='Weddell')\n",
    "salt_250m_shelf_Ross.mean((\"xt_ocean\",\"yt_ocean\")).plot(label='Ross')\n",
    "salt_250m_shelf_CapeD.mean((\"xt_ocean\",\"yt_ocean\")).plot(label='CapeD')\n",
    "salt_250m_shelf_Mertz.mean((\"xt_ocean\",\"yt_ocean\")).plot(label='Mertz')\n",
    "plt.xlabel('Time (yrs)', fontsize=12, loc='right')\n",
    "plt.ylabel('Practical Salinity (psu)', fontsize=12)\n",
    "plt.legend(loc='upper right', frameon=False, fontsize=10)\n",
    "#plt.legend(fancybox=True, framealpha=1, shadow=True, borderpad=1)\n",
    "#plt.legend(frameon=False, loc='upper center', ncol=4)"
   ]
  },
  {
   "cell_type": "markdown",
   "id": "bdb2779c",
   "metadata": {},
   "source": [
    "## Weighted averages over area"
   ]
  },
  {
   "cell_type": "markdown",
   "id": "961359a4",
   "metadata": {},
   "source": [
    "When calculating your weighted averages, you use a cosine function. This might be OK, but it’s not perfect. I would suggest that you should load the cell area from the static grid file:"
   ]
  },
  {
   "cell_type": "code",
   "execution_count": null,
   "id": "f7d54da6",
   "metadata": {},
   "outputs": [],
   "source": [
    "area_t = cc.querying.getvar(expt='01deg_jra55v13_ryf9091', variable='area_t',  session=session, frequency='static', n=1)\n",
    "area_t = area_t.sel(yt_ocean = slice(lat_min, lat_max))\n",
    "area_t = area_t.fillna(0) # added"
   ]
  },
  {
   "cell_type": "markdown",
   "id": "292c4910",
   "metadata": {},
   "source": [
    "I think this may be slightly different, but it is definitely correct. It would be good to implement this, but even better is to compare what the area_t gives compared with your existing weights."
   ]
  },
  {
   "cell_type": "code",
   "execution_count": null,
   "id": "01c9c538",
   "metadata": {},
   "outputs": [],
   "source": [
    "#Weighted average salt with lon-lat\n",
    "#`weights` cannot contain missing values. Missing values can be replaced by `weights.fillna(0)`.\n",
    "salt_st_shelf_weighted_area_t = salt_st_shelf.weighted(area_t.fillna(0))\n",
    "salt_surface_shelf_weighted_area_t = salt_surface_shelf.weighted(area_t.fillna(0))\n",
    "salt_250m_shelf_weighted_area_t = salt_250m_shelf.weighted(area_t.fillna(0))\n",
    "\n",
    "salt_st_shelf_weighted_area_t"
   ]
  },
  {
   "cell_type": "code",
   "execution_count": null,
   "id": "61288195",
   "metadata": {},
   "outputs": [],
   "source": [
    "salt_st_shelf_weighted"
   ]
  },
  {
   "cell_type": "code",
   "execution_count": null,
   "id": "f156fb9d",
   "metadata": {},
   "outputs": [],
   "source": [
    "salt_surface_shelf_Mertz = salt_shelf_Mertz.sel(st_ocean=0, method='nearest').weighted(weights)\n",
    "salt_surface_shelf_Mertz_weighted_area_t = salt_shelf_Mertz.sel(st_ocean=0, method='nearest').weighted(area_t.fillna(0))"
   ]
  },
  {
   "cell_type": "code",
   "execution_count": null,
   "id": "e88c74a4",
   "metadata": {},
   "outputs": [],
   "source": [
    "fig = plt.figure(figsize=(8, 5))\n",
    "salt_surface_shelf_Mertz.mean((\"xt_ocean\",\"yt_ocean\")).plot(label='weights_coslat')\n",
    "salt_surface_shelf_Mertz_weighted_area_t.mean((\"xt_ocean\",\"yt_ocean\")).plot(label='area_t')\n",
    "plt.xlabel('Time (yrs)', fontsize=12, loc='right')\n",
    "plt.ylabel('Practical Salinity (psu)', fontsize=12)\n",
    "plt.legend(loc='upper right', frameon=False, fontsize=10)"
   ]
  },
  {
   "cell_type": "code",
   "execution_count": null,
   "id": "81e3f5e5",
   "metadata": {},
   "outputs": [],
   "source": [
    "difference = salt_surface_shelf_Mertz.mean((\"xt_ocean\",\"yt_ocean\")) - salt_surface_shelf_Mertz_weighted_area_t.mean((\"xt_ocean\",\"yt_ocean\"))\n",
    "difference"
   ]
  },
  {
   "cell_type": "markdown",
   "id": "aff6fa2e",
   "metadata": {},
   "source": [
    "Ross Sea"
   ]
  },
  {
   "cell_type": "markdown",
   "id": "de832808",
   "metadata": {},
   "source": [
    "## Weighted averages over st_ocean\n",
    "\n",
    "this line is wrong:\n",
    "\n",
    "weights_st = salt.st_ocean\n",
    "\n",
    "The reason is that st_ocean describes the vertical position of the cell centre, not the thickness of each cell. Now it *might* be that xarray is smart enough to figure this out, but I doubt it. Best way to figure this out is as we discussed, set up a simple example for which you know the answer. Write a very short piece of code to test the use of st_ocean. My suspicion is that if you go through this exercise then you will discover that you need to use a cell thickness variable. The absolutely gold standard for doing this is to use dzt, which is a 3-D field of cell thickness. But a good approximation is to load:\n",
    "\n",
    "st_edges_ocean = cc.querying.getvar(expt='01deg_jra55v140_iaf_KvJ09', variable='st_edges_ocean', session=session, frequency='1 monthly', n=1)\n",
    "\n",
    "which gives the edges of each of the cell, then take\n",
    "\n",
    "thickness = np.diff(st_edges_ocean)\n",
    "\n",
    "and make a dataarray of weights from thickess. Again, don’t take my word for it — test this and make sure you can prove to yourself that this is the right method. This will leave you confident in your code and you can go ahead and compute these averages with no doubt in the result."
   ]
  },
  {
   "cell_type": "code",
   "execution_count": null,
   "id": "21317411",
   "metadata": {},
   "outputs": [],
   "source": [
    "st_edges_ocean = cc.querying.getvar(expt='01deg_jra55v13_ryf9091', variable='st_edges_ocean', \n",
    "                          session=session, frequency='1 monthly',\n",
    "                          start_time='1999-12-31 00:00:00', \n",
    "                          end_time='2039-12-31 00:00:00')\n",
    "\n",
    "thickness = np.diff(st_edges_ocean)\n",
    "thickness = xr.DataArray(thickness)\n",
    "\n",
    "# Weighted average salt with all depths\n",
    "salt_thickness = salt.weighted(thickness).mean('st_ocean')"
   ]
  },
  {
   "cell_type": "code",
   "execution_count": null,
   "id": "ac42ba42",
   "metadata": {},
   "outputs": [],
   "source": [
    "salt_thickness_shelf = salt_thickness*shelf_mask\n",
    "salt_thickness_shelf_weighted = salt_thickness_shelf.weighted(weights)\n",
    "\n",
    "salt_thickness_shelf_Mertz_weighted = salt_shelf_Mertz.weighted(thickness).mean('st_ocean')\n",
    "salt_thickness_shelf_Mertz = salt_thickness_shelf_Mertz_weighted.weighted(weights)"
   ]
  },
  {
   "cell_type": "code",
   "execution_count": null,
   "id": "c1d88ab8",
   "metadata": {},
   "outputs": [],
   "source": [
    "salt_thickness_shelf_Mertz_mean = salt_thickness_shelf_Mertz.mean((\"xt_ocean\",\"yt_ocean\"))\n",
    "salt_thickness_shelf_Mertz_mean"
   ]
  },
  {
   "cell_type": "code",
   "execution_count": null,
   "id": "71a91734",
   "metadata": {},
   "outputs": [],
   "source": [
    "salt_st_shelf_Mertz_weighted"
   ]
  },
  {
   "cell_type": "code",
   "execution_count": null,
   "id": "72e9ef12",
   "metadata": {},
   "outputs": [],
   "source": [
    "salt_st_shelf_Mertz_mean = salt_st_shelf_Mertz.mean((\"xt_ocean\",\"yt_ocean\"))\n",
    "salt_st_shelf_Mertz_mean"
   ]
  },
  {
   "cell_type": "code",
   "execution_count": null,
   "id": "30874d1b",
   "metadata": {},
   "outputs": [],
   "source": [
    "fig = plt.figure(figsize=(8, 5))\n",
    "salt_st_shelf_Mertz.mean((\"xt_ocean\",\"yt_ocean\")).plot(label='weights_st')\n",
    "salt_thickness_shelf_Mertz.mean((\"xt_ocean\",\"yt_ocean\")).plot(label='weights_thickness')\n",
    "plt.xlabel('Time (yrs)', fontsize=12, loc='right')\n",
    "plt.ylabel('Practical Salinity (psu)', fontsize=12)\n",
    "plt.legend(loc='upper right', frameon=False, fontsize=10)"
   ]
  },
  {
   "cell_type": "code",
   "execution_count": null,
   "id": "9b3ab3d4",
   "metadata": {},
   "outputs": [],
   "source": [
    "salt_thickness_shelf_Mertz"
   ]
  },
  {
   "cell_type": "code",
   "execution_count": null,
   "id": "605e0bdd",
   "metadata": {},
   "outputs": [],
   "source": [
    "salt_st_shelf_Mertz"
   ]
  },
  {
   "cell_type": "code",
   "execution_count": null,
   "id": "775c5290",
   "metadata": {},
   "outputs": [],
   "source": [
    "salt_surface_shelf_Mertz_weighted_area_t"
   ]
  },
  {
   "cell_type": "code",
   "execution_count": null,
   "id": "4c584e4b",
   "metadata": {},
   "outputs": [],
   "source": [
    "fig = plt.figure(figsize=(8, 5))\n",
    "salt_st_shelf_Mertz.mean((\"xt_ocean\",\"yt_ocean\")).sel(time=slice('1999-12-31 00:00:00','2000-12-31 00:00:00')).plot(label='weights_st')\n",
    "salt_thickness_shelf_Mertz.mean((\"xt_ocean\",\"yt_ocean\")).sel(time=slice('1999-12-31 00:00:00','2000-12-31 00:00:00')).plot(label='weights_thickness')\n",
    "plt.xlabel('Time (yrs)', fontsize=12, loc='right')\n",
    "plt.ylabel('Practical Salinity (psu)', fontsize=12)\n",
    "plt.legend(loc='upper right', frameon=False, fontsize=10)"
   ]
  },
  {
   "cell_type": "code",
   "execution_count": null,
   "id": "a828ca44",
   "metadata": {},
   "outputs": [],
   "source": []
  }
 ],
 "metadata": {
  "kernelspec": {
   "display_name": "Python 3",
   "language": "python",
   "name": "python3"
  },
  "language_info": {
   "codemirror_mode": {
    "name": "ipython",
    "version": 3
   },
   "file_extension": ".py",
   "mimetype": "text/x-python",
   "name": "python",
   "nbconvert_exporter": "python",
   "pygments_lexer": "ipython3",
   "version": "3.8.8"
  }
 },
 "nbformat": 4,
 "nbformat_minor": 5
}
